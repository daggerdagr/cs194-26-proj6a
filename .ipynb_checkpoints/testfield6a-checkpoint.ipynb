{
 "cells": [
  {
   "cell_type": "code",
   "execution_count": 2,
   "metadata": {},
   "outputs": [
    {
     "name": "stdout",
     "output_type": "stream",
     "text": [
      "Populating the interactive namespace from numpy and matplotlib\n"
     ]
    }
   ],
   "source": [
    "%pylab qt"
   ]
  },
  {
   "cell_type": "code",
   "execution_count": 58,
   "metadata": {},
   "outputs": [],
   "source": [
    "from region.image import Image\n",
    "from utils import *\n",
    "import numpy\n",
    "from skimage.draw import polygon_perimeter, polygon\n",
    "from scipy.interpolate import interp2d, dfitpack"
   ]
  },
  {
   "cell_type": "code",
   "execution_count": 50,
   "metadata": {},
   "outputs": [],
   "source": [
    "np.set_printoptions(suppress=True)"
   ]
  },
  {
   "cell_type": "markdown",
   "metadata": {},
   "source": [
    "# Utils"
   ]
  },
  {
   "cell_type": "code",
   "execution_count": 22,
   "metadata": {
    "collapsed": true
   },
   "outputs": [],
   "source": [
    "def getPoints(im, n):\n",
    "    n = int(n)\n",
    "    plt.imshow(im.imArr)\n",
    "    points = plt.ginput(n, timeout = 300, show_clicks=True)\n",
    "    plt.close()\n",
    "    print(\"Points gotten from\", im.name, \":\", str(points))\n",
    "    return np.array(points)\n",
    "\n",
    "def dispPtsOnImg(im, results, tag=False):\n",
    "    dispPtsOnImgRC(im, results[:, 0], results[:, 1], tag)\n",
    "\n",
    "def dispPtsOnImgRC(im, rowInds, colInds, tag=False):\n",
    "    assert len(rowInds) == len(colInds)\n",
    "    plt.imshow(im)\n",
    "    plt.plot(rowInds, colInds, 'bo')\n",
    "    if tag:\n",
    "        for ind in range(len(rowInds)):\n",
    "            x, y = rowInds[ind], colInds[ind]\n",
    "            plt.text(x, y, str(ind), bbox=dict(facecolor='blue', alpha=0.5))\n",
    "            plt.text(x, y, \"%d-%d\" % (x,y), bbox=dict(facecolor='red', alpha=0.5))\n",
    "    plt.waitforbuttonpress()\n",
    "    plt.close()"
   ]
  },
  {
   "cell_type": "code",
   "execution_count": null,
   "metadata": {},
   "outputs": [],
   "source": [
    "imT1 = Image.fromPath(\"../sample_imgs/20181103_162858.jpg\")"
   ]
  },
  {
   "cell_type": "code",
   "execution_count": null,
   "metadata": {},
   "outputs": [],
   "source": [
    "viewImage(imT1.imArr)"
   ]
  },
  {
   "cell_type": "code",
   "execution_count": 154,
   "metadata": {},
   "outputs": [],
   "source": [
    "def computeH(startPts, endPts):\n",
    "    assert len(startPts) == len(endPts)\n",
    "    A, b = createA(startPts, endPts)\n",
    "#     Axx = createAb(startPts, endPts)\n",
    "#     bxx = np.zeros(len(Axx))\n",
    "#     bxx[-1] = 1\n",
    "#     print(\"whoomp: \", numpy.linalg.lstsq(Axx, bxx)[0])\n",
    "    \n",
    "    x = numpy.linalg.lstsq(A, b)\n",
    "    result = np.append(x[0], 1)\n",
    "    return result.reshape(3, 3)"
   ]
  },
  {
   "cell_type": "code",
   "execution_count": 155,
   "metadata": {},
   "outputs": [
    {
     "name": "stderr",
     "output_type": "stream",
     "text": [
      "/Users/reginaongowarsito/anaconda3/lib/python3.6/site-packages/ipykernel_launcher.py:9: FutureWarning: `rcond` parameter will change to the default of machine precision times ``max(M, N)`` where M and N are the input matrix dimensions.\n",
      "To use the future default and silence this warning we advise to pass `rcond=None`, to keep using the old, explicitly pass `rcond=-1`.\n",
      "  if __name__ == '__main__':\n"
     ]
    },
    {
     "data": {
      "text/plain": [
       "array([[  0.470684,  -0.33385 , 419.604393],\n",
       "       [ -0.066319,   0.464731,  95.022821],\n",
       "       [ -0.000324,  -0.000568,   1.      ]])"
      ]
     },
     "execution_count": 155,
     "metadata": {},
     "output_type": "execute_result"
    }
   ],
   "source": [
    "computeH(im1Pts, im2Pts)"
   ]
  },
  {
   "cell_type": "code",
   "execution_count": 8,
   "metadata": {},
   "outputs": [
    {
     "name": "stderr",
     "output_type": "stream",
     "text": [
      "/Users/reginaongowarsito/anaconda3/lib/python3.6/site-packages/skimage/transform/_warps.py:84: UserWarning: The default mode, 'constant', will be changed to 'reflect' in skimage 0.15.\n",
      "  warn(\"The default mode, 'constant', will be changed to 'reflect' in \"\n"
     ]
    }
   ],
   "source": [
    "imSproul0 = Image.fromPath(\"../curated_sample_imgs/lower_sproul/lower_sproul_00.jpg\", 0.25)\n",
    "imSproul1 = Image.fromPath(\"../curated_sample_imgs/lower_sproul/lower_sproul_01.jpg\", 0.25)"
   ]
  },
  {
   "cell_type": "code",
   "execution_count": 128,
   "metadata": {
    "collapsed": true
   },
   "outputs": [],
   "source": [
    "def createAb(startPts, endPts):\n",
    "    result = np.zeros((len(startPts) * 2 + 1, 9))\n",
    "    for i in range(len(startPts)):\n",
    "        startPoint = startPts[i]\n",
    "        endPoint = endPts[i]\n",
    "        \n",
    "        # first row set\n",
    "        result[i*2, 0] = -1 * startPoint[0]\n",
    "        result[i*2, 1] = -1 * startPoint[1]\n",
    "        result[i*2, 2] = -1\n",
    "        \n",
    "        result[i*2, 6] = startPoint[0] * endPoint[0]\n",
    "        result[i*2, 7] = startPoint[1] * endPoint[0]\n",
    "        result[i*2, 8] = endPoint[0]\n",
    "        \n",
    "        \n",
    "        # second row set\n",
    "        result[i*2+1, 3] = -1 * startPoint[0]\n",
    "        result[i*2+1, 4] = -1 * startPoint[1]\n",
    "        result[i*2+1, 5] = -1\n",
    "        \n",
    "        result[i*2+1, 6] = startPoint[0] * endPoint[1]\n",
    "        result[i*2+1, 7] = startPoint[1] * endPoint[1]\n",
    "        result[i*2+1, 8] = endPoint[1]\n",
    "    result[-1, -1] = 1\n",
    "    \n",
    "    return result\n",
    "\n",
    "\n",
    "def createA(startPts, endPts):\n",
    "    result = np.zeros((len(startPts) * 2, 8))\n",
    "    b = np.zeros(len(result))\n",
    "    for i in range(len(startPts)):\n",
    "        startPoint = startPts[i]\n",
    "        endPoint = endPts[i]\n",
    "        \n",
    "        # first row set\n",
    "        result[i*2, 0] = -1 * startPoint[0]\n",
    "        result[i*2, 1] = -1 * startPoint[1]\n",
    "        result[i*2, 2] = -1\n",
    "        \n",
    "        result[i*2, 6] = startPoint[0] * endPoint[0]\n",
    "        result[i*2, 7] = startPoint[1] * endPoint[0]\n",
    "        b[i*2] = -endPoint[0]\n",
    "        \n",
    "        \n",
    "        # second row set\n",
    "        result[i*2+1, 3] = -1 * startPoint[0]\n",
    "        result[i*2+1, 4] = -1 * startPoint[1]\n",
    "        result[i*2+1, 5] = -1\n",
    "        \n",
    "        result[i*2+1, 6] = startPoint[0] * endPoint[1]\n",
    "        result[i*2+1, 7] = startPoint[1] * endPoint[1]\n",
    "        b[i*2+1] = -endPoint[1]\n",
    "    # result[-1, -1] = 1\n",
    "    \n",
    "    return result, b\n",
    "    \n",
    "\n",
    "# def createA(numOfPts):\n",
    "#     result = np.zeros((numOfPts * 2, 8))\n",
    "    \n",
    "#     for i in range()\n",
    "\n",
    "# def createA(numOfPts):\n",
    "#     result = np.zeros((numOfPts * 2, 8))\n",
    "    \n",
    "#     for i in range()"
   ]
  },
  {
   "cell_type": "code",
   "execution_count": 79,
   "metadata": {},
   "outputs": [],
   "source": [
    "dispPtsOnImg(imSproul0.imArr, im1Pts * 1/4)\n",
    "dispPtsOnImg(imSproul1.imArr, im2Pts * 1/4)"
   ]
  },
  {
   "cell_type": "code",
   "execution_count": 125,
   "metadata": {},
   "outputs": [],
   "source": [
    "im1Pts = 1/4 * np.array([[515, 1477], [514, 1732], [333, 1668], [691, 1619], [791, 1605], [1286, 1535], [2038, 1408], [2032, 1528]])\n",
    "im2Pts = 1/4 * np.array([[1911, 1379], [1908, 1615], [1712, 1542], [2056, 1519], [2140, 1515], [2598, 1488], [3430, 1416], [3421, 1545]])\n",
    "# im1Pts = np.array([])\n",
    "# im2Pts = np.array([])\n",
    "# createA(im1Pts, im2Pts)"
   ]
  },
  {
   "cell_type": "code",
   "execution_count": 26,
   "metadata": {},
   "outputs": [
    {
     "data": {
      "text/plain": [
       "\"\\np' = H p\\nwhere\\n    p' = target\\n    p = source\\n\\nplace on p' the color on p\\n\\n---\\n\\nget the points in final image that actually will need a value from source image\\n    do by calculating the results of the corners of the source img getting transformed,\\n    then using polygon to get the coordinates that actually lies inside the polygon, so you dont do the coords that isnt in it\\n    \\n\\nfor every point in p', get the corresponding p with p' * H^-1\\n\\n\""
      ]
     },
     "execution_count": 26,
     "metadata": {},
     "output_type": "execute_result"
    }
   ],
   "source": [
    "imSource = imSproul0\n",
    "\n",
    "\n",
    "\"\"\"\n",
    "p' = H p\n",
    "where\n",
    "    p' = target\n",
    "    p = source\n",
    "\n",
    "place on p' the color on p\n",
    "\n",
    "---\n",
    "\n",
    "get the points in final image that actually will need a value from source image\n",
    "    do by calculating the results of the corners of the source img getting transformed,\n",
    "    then using polygon to get the coordinates that actually lies inside the polygon, so you dont do the coords that isnt in it\n",
    "    \n",
    "\n",
    "for every point in p', get the corresponding p with p' * H^-1\n",
    "\n",
    "\"\"\""
   ]
  },
  {
   "cell_type": "code",
   "execution_count": 158,
   "metadata": {},
   "outputs": [
    {
     "name": "stderr",
     "output_type": "stream",
     "text": [
      "/Users/reginaongowarsito/anaconda3/lib/python3.6/site-packages/ipykernel_launcher.py:9: FutureWarning: `rcond` parameter will change to the default of machine precision times ``max(M, N)`` where M and N are the input matrix dimensions.\n",
      "To use the future default and silence this warning we advise to pass `rcond=None`, to keep using the old, explicitly pass `rcond=-1`.\n",
      "  if __name__ == '__main__':\n"
     ]
    },
    {
     "name": "stdout",
     "output_type": "stream",
     "text": [
      "source: [[128.75 369.25]\n",
      " [128.5  433.  ]\n",
      " [ 83.25 417.  ]\n",
      " [172.75 404.75]\n",
      " [197.75 401.25]\n",
      " [321.5  383.75]\n",
      " [509.5  352.  ]\n",
      " [508.   382.  ]]\n",
      "transformed source: [[476.804567 344.763214]\n",
      " [470.944944 403.852226]\n",
      " [434.085236 384.806633]\n",
      " [512.180347 380.388352]\n",
      " [534.865846 379.029976]\n",
      " [653.168227 371.771127]\n",
      " [853.236543 353.981038]\n",
      " [858.737538 386.154289]]\n",
      "target: [[477.75 344.75]\n",
      " [477.   403.75]\n",
      " [428.   385.5 ]\n",
      " [514.   379.75]\n",
      " [535.   378.75]\n",
      " [649.5  372.  ]\n",
      " [857.5  354.  ]\n",
      " [855.25 386.25]]\n"
     ]
    }
   ],
   "source": [
    "sourcePts = im1Pts\n",
    "targetPts = im2Pts\n",
    "\n",
    "H = computeH(sourcePts, targetPts)\n",
    "print(\"source:\", sourcePts)\n",
    "print(\"transformed source:\", transf(H, sourcePts))\n",
    "print(\"target:\", targetPts)\n",
    "\n",
    "dispPtsOnImg(imSproul0.imArr, sourcePts)\n",
    "dispPtsOnImg(imSproul1.imArr, transf(H, sourcePts))"
   ]
  },
  {
   "cell_type": "code",
   "execution_count": 93,
   "metadata": {
    "collapsed": true
   },
   "outputs": [],
   "source": [
    "def transf(H, res, normalize=True):\n",
    "    if res.ndim == 1:\n",
    "        vect = np.append(res, 1)\n",
    "    else:\n",
    "        vect = np.vstack((res.T, np.ones(len(res))))\n",
    "    tfSourceCorners = np.dot(H, vect)\n",
    "    \n",
    "    if normalize:\n",
    "        for i in range(tfSourceCorners.shape[1]):\n",
    "            corner = tfSourceCorners[:, i]\n",
    "            normCorner = np.dot(corner, 1/(corner[2]))\n",
    "            tfSourceCorners[:, i] = normCorner\n",
    "    return tfSourceCorners[:-1, :].T"
   ]
  },
  {
   "cell_type": "code",
   "execution_count": 111,
   "metadata": {
    "collapsed": true
   },
   "outputs": [],
   "source": [
    "def getDimensions(imCornersCoords):\n",
    "    # assuming imCornersCoords = [[width, height]]\n",
    "    \n",
    "    minWidth = int(np.ceil(min(imCornersCoords[:, 0])))\n",
    "    minHeight = int(np.ceil(min(imCornersCoords[:, 1])))\n",
    "    \n",
    "    maxWidth = int(np.ceil(max(imCornersCoords[:, 0])))\n",
    "    maxHeight = int(np.ceil(max(imCornersCoords[:, 1])))\n",
    "    \n",
    "    totalWidth = maxWidth - minWidth + 1\n",
    "    totalHeight = maxHeight - minHeight + 1\n",
    "    \n",
    "    tup = totalHeight, totalWidth, minHeight, minWidth\n",
    "    \n",
    "    return tup\n",
    "    "
   ]
  },
  {
   "cell_type": "code",
   "execution_count": 113,
   "metadata": {},
   "outputs": [],
   "source": [
    "def findAllCoords(tfSourceCorners):\n",
    "    innerCoordsR, innerCoordsC = polygon(tfSourceCorners[:, 0], tfSourceCorners[:, 1])\n",
    "    perimCoordsR, perimCoordsC = polygon_perimeter(tfSourceCorners[:, 0], tfSourceCorners[:, 1])\n",
    "    allCoordsR = np.append(innerCoordsR, perimCoordsR)\n",
    "    allCoordsC = np.append(innerCoordsC, perimCoordsC)\n",
    "\n",
    "    targetPs = np.vstack((allCoordsR, allCoordsC)).T\n",
    "    \n",
    "    return targetPs"
   ]
  },
  {
   "cell_type": "code",
   "execution_count": 126,
   "metadata": {},
   "outputs": [
    {
     "name": "stderr",
     "output_type": "stream",
     "text": [
      "/Users/reginaongowarsito/anaconda3/lib/python3.6/site-packages/ipykernel_launcher.py:7: FutureWarning: `rcond` parameter will change to the default of machine precision times ``max(M, N)`` where M and N are the input matrix dimensions.\n",
      "To use the future default and silence this warning we advise to pass `rcond=None`, to keep using the old, explicitly pass `rcond=-1`.\n",
      "  import sys\n"
     ]
    },
    {
     "name": "stdout",
     "output_type": "stream",
     "text": [
      "sourceCorners: [[   0    0]\n",
      " [   0  489]\n",
      " [1007  489]\n",
      " [1007    0]]\n",
      "tfSourceCorners: [[371.738211  25.330502]\n",
      " [255.851763 501.407914]\n",
      " [721.365055 421.38734 ]\n",
      " [687.491884 298.502042]]\n",
      "[[256 501]\n",
      " [257 497]\n",
      " [257 498]\n",
      " ...\n",
      " [374  27]\n",
      " [373  26]\n",
      " [372  25]]\n"
     ]
    },
    {
     "name": "stderr",
     "output_type": "stream",
     "text": [
      "/Users/reginaongowarsito/anaconda3/lib/python3.6/site-packages/skimage/io/_plugins/matplotlib_plugin.py:51: FutureWarning: Conversion of the second argument of issubdtype from `float` to `np.floating` is deprecated. In future, it will be treated as `np.float64 == np.dtype(float).type`.\n",
      "  out_of_range_float = (np.issubdtype(image.dtype, np.float) and\n",
      "/Users/reginaongowarsito/anaconda3/lib/python3.6/site-packages/matplotlib/axes/_base.py:1428: MatplotlibDeprecationWarning: The 'box-forced' keyword argument is deprecated since 2.2.\n",
      "  \" since 2.2.\", cbook.mplDeprecation)\n"
     ]
    }
   ],
   "source": [
    "imSource = imSproul0\n",
    "imBase = imSproul1\n",
    "\n",
    "sourcePts = im1Pts[:4]\n",
    "targetPts = im2Pts[:4]\n",
    "\n",
    "H = computeH(sourcePts, targetPts)\n",
    "\n",
    "\n",
    "sourceCorners = Image.getCorners(imSource)\n",
    "tfSourceCorners = transf(H, sourceCorners)\n",
    "\n",
    "dispPtsOnImg(imSproul1.imArr, tfSourceCorners)\n",
    "\n",
    "print(\"sourceCorners:\", sourceCorners)\n",
    "print(\"tfSourceCorners:\", tfSourceCorners)\n",
    "\n",
    "finH = int(np.ceil(max(tfSourceCorners[:, 1])))\n",
    "finW = int(np.ceil(max(tfSourceCorners[:, 0])))\n",
    "finalImage = Image(\"finalImage\", np.zeros((finH + 1, finW + 1, 3)))\n",
    "\n",
    "\n",
    "########\n",
    "\n",
    "source_Rchan = interp2d(range(imSource.width), range(imSource.height), imSource.imArr[:, :, 0])\n",
    "source_Gchan = interp2d(range(imSource.width), range(imSource.height), imSource.imArr[:, :, 1])\n",
    "source_Bchan = interp2d(range(imSource.width), range(imSource.height), imSource.imArr[:, :, 2])\n",
    "\n",
    "autoInterp = lambda f, xs, ys: dfitpack.bispeu(f.tck[0], f.tck[1], f.tck[2], f.tck[3], f.tck[4], xs, ys)[0]\n",
    "\n",
    "########\n",
    "\n",
    "targetPs = findAllCoords(tfSourceCorners)\n",
    "\n",
    "invH = np.linalg.inv(H)\n",
    "\n",
    "sourcePs = transf(invH, targetPs)\n",
    "\n",
    "Rvals = autoInterp(source_Rchan, sourcePs[:, 0], sourcePs[:, 1])\n",
    "Gvals = autoInterp(source_Gchan, sourcePs[:, 0], sourcePs[:, 1])\n",
    "Bvals = autoInterp(source_Bchan, sourcePs[:, 0], sourcePs[:, 1])\n",
    "print(targetPs)\n",
    "\n",
    "# print()\n",
    "\n",
    "finH, finW, minH, minW = getDimensions(np.vstack((tfSourceCorners, imBase.getCorners())))\n",
    "# )\n",
    "# finH = int(np.ceil(max(targetPs[:, 1])))\n",
    "# finW = int(np.ceil(max(targetPs[:, 0])))\n",
    "finalImage = Image(\"finalImage\", np.zeros((finH, finW, 3)))\n",
    "\n",
    "finalImage.imArr[targetPs[:, 1] + minH, targetPs[:, 0] + minW, 0] = Rvals\n",
    "finalImage.imArr[targetPs[:, 1] + minH, targetPs[:, 0] + minW, 1] = Gvals\n",
    "finalImage.imArr[targetPs[:, 1] + minH, targetPs[:, 0] + minW, 2] = Bvals\n",
    "\n",
    "viewImage(finalImage.imArr)"
   ]
  },
  {
   "cell_type": "code",
   "execution_count": 87,
   "metadata": {},
   "outputs": [
    {
     "name": "stderr",
     "output_type": "stream",
     "text": [
      "/Users/reginaongowarsito/anaconda3/lib/python3.6/site-packages/skimage/transform/_warps.py:84: UserWarning: The default mode, 'constant', will be changed to 'reflect' in skimage 0.15.\n",
      "  warn(\"The default mode, 'constant', will be changed to 'reflect' in \"\n",
      "/Users/reginaongowarsito/anaconda3/lib/python3.6/site-packages/ipykernel_launcher.py:9: FutureWarning: `rcond` parameter will change to the default of machine precision times ``max(M, N)`` where M and N are the input matrix dimensions.\n",
      "To use the future default and silence this warning we advise to pass `rcond=None`, to keep using the old, explicitly pass `rcond=-1`.\n",
      "  if __name__ == '__main__':\n"
     ]
    },
    {
     "name": "stdout",
     "output_type": "stream",
     "text": [
      "A:\n",
      " [[     0.      0.     -1.      0.      0.      0.      0.      0.     99.]\n",
      " [     0.      0.      0.      0.      0.     -1.      0.      0.     99.]\n",
      " [     0.   -479.     -1.      0.      0.      0.      0.  47421.     99.]\n",
      " [     0.      0.      0.      0.   -479.     -1.      0. 277341.    579.]\n",
      " [  -479.   -479.     -1.      0.      0.      0. 277341. 277341.    579.]\n",
      " [     0.      0.      0.   -479.   -479.     -1. 277341. 277341.    579.]\n",
      " [  -479.      0.     -1.      0.      0.      0. 277341.      0.    579.]\n",
      " [     0.      0.      0.   -479.      0.     -1.  47421.      0.     99.]\n",
      " [     0.      0.      0.      0.      0.      0.      0.      0.      1.]]\n",
      "b:\n",
      " [0. 0. 0. 0. 0. 0. 0. 0. 1.]\n",
      "h:\n",
      " [ 1.002088 -0.       99.       -0.        1.002088 99.       -0.\n",
      " -0.        1.      ]\n",
      "[[ 1.002088 -0.       99.      ]\n",
      " [-0.        1.002088 99.      ]\n",
      " [-0.       -0.        1.      ]]\n",
      "(580, 580, 3)\n",
      "[[ 99  99]\n",
      " [100  99]\n",
      " [101  99]\n",
      " ...\n",
      " [ 99 101]\n",
      " [ 99 100]\n",
      " [ 99  99]]\n"
     ]
    },
    {
     "name": "stderr",
     "output_type": "stream",
     "text": [
      "/Users/reginaongowarsito/anaconda3/lib/python3.6/site-packages/skimage/io/_plugins/matplotlib_plugin.py:51: FutureWarning: Conversion of the second argument of issubdtype from `float` to `np.floating` is deprecated. In future, it will be treated as `np.float64 == np.dtype(float).type`.\n",
      "  out_of_range_float = (np.issubdtype(image.dtype, np.float) and\n",
      "/Users/reginaongowarsito/anaconda3/lib/python3.6/site-packages/matplotlib/axes/_base.py:1428: MatplotlibDeprecationWarning: The 'box-forced' keyword argument is deprecated since 2.2.\n",
      "  \" since 2.2.\", cbook.mplDeprecation)\n"
     ]
    }
   ],
   "source": [
    "imTestImage = Image.fromPath(\"../curated_sample_imgs/test_image.png\")\n",
    "imSource = imTestImage\n",
    "\n",
    "source_Rchan = interp2d(range(imSource.width), range(imSource.height), imSource.imArr[:, :, 0])\n",
    "source_Gchan = interp2d(range(imSource.width), range(imSource.height), imSource.imArr[:, :, 1])\n",
    "source_Bchan = interp2d(range(imSource.width), range(imSource.height), imSource.imArr[:, :, 2])\n",
    "\n",
    "autoInterp = lambda f, xs, ys: dfitpack.bispeu(f.tck[0], f.tck[1], f.tck[2], f.tck[3], f.tck[4], xs, ys)[0]\n",
    "\n",
    "######\n",
    "\n",
    "sourceCorners = np.array([[0, 0], [0, 479], [479, 479], [479, 0]])\n",
    "\n",
    "tfSourceCorners = np.array([[99, 99], [99, 579], [579, 579], [579, 99]])\n",
    "\n",
    "H = computeH(sourceCorners, tfSourceCorners)\n",
    "print(H)\n",
    "\n",
    "\n",
    "###\n",
    "\n",
    "\n",
    "innerCoordsR, innerCoordsC = polygon(tfSourceCorners[:, 0], tfSourceCorners[:, 1])\n",
    "perimCoordsR, perimCoordsC = polygon_perimeter(tfSourceCorners[:, 0], tfSourceCorners[:, 1])\n",
    "allCoordsR = np.append(innerCoordsR, perimCoordsR)\n",
    "allCoordsC = np.append(innerCoordsC, perimCoordsC)\n",
    "\n",
    "targetPs = np.vstack((allCoordsC, allCoordsR)).T\n",
    "\n",
    "\n",
    "invH = np.linalg.inv(H)\n",
    "\n",
    "sourcePs = transf(invH, targetPs)\n",
    "\n",
    "\n",
    "finH = int(np.ceil(max(targetPs[:, 1])))\n",
    "finW = int(np.ceil(max(targetPs[:, 0])))\n",
    "finalImage = Image(\"finalImage\", np.zeros((finH + 1, finW + 1, 3)))\n",
    "print(finalImage.imArr.shape)\n",
    "\n",
    "Rvals = autoInterp(source_Rchan, sourcePs[:, 0], sourcePs[:, 1])\n",
    "Gvals = autoInterp(source_Gchan, sourcePs[:, 0], sourcePs[:, 1])\n",
    "Bvals = autoInterp(source_Bchan, sourcePs[:, 0], sourcePs[:, 1])\n",
    "print(targetPs)\n",
    "\n",
    "finalImage.imArr[targetPs[:, 1], targetPs[:, 0], 0] = Rvals\n",
    "finalImage.imArr[targetPs[:, 1], targetPs[:, 0], 1] = Gvals\n",
    "finalImage.imArr[targetPs[:, 1], targetPs[:, 0], 2] = Bvals\n",
    "\n",
    "viewImage(finalImage.imArr)"
   ]
  },
  {
   "cell_type": "code",
   "execution_count": null,
   "metadata": {},
   "outputs": [],
   "source": [
    "from skimage.draw import polygon_perimeter\n",
    "img = np.zeros((10, 10), dtype=np.uint8)\n",
    "rr, cc = polygon_perimeter([6, 1, 5, 10],\n",
    "                           [1, 5, 11, 5],\n",
    "                           shape=img.shape, clip=True)\n",
    "img[rr, cc] = 1\n",
    "img"
   ]
  },
  {
   "cell_type": "code",
   "execution_count": null,
   "metadata": {},
   "outputs": [],
   "source": [
    "np.append(np.array([1, 2, 3]), 1)"
   ]
  },
  {
   "cell_type": "code",
   "execution_count": 132,
   "metadata": {},
   "outputs": [
    {
     "name": "stdout",
     "output_type": "stream",
     "text": [
      "(array([[ 0.,  0., -1.,  0.,  0.,  0.,  0.,  0.],\n",
      "       [ 0.,  0.,  0.,  0.,  0., -1.,  0.,  0.]]), array([-2., -2.]))\n",
      "[[ 0.  0. -1.  0.  0.  0.  0.  0.  2.]\n",
      " [ 0.  0.  0.  0.  0. -1.  0.  0.  2.]\n",
      " [ 0.  0.  0.  0.  0.  0.  0.  0.  1.]]\n"
     ]
    }
   ],
   "source": [
    "a = np.array([[0, 0]])\n",
    "b = np.array([[2, 2]])\n",
    "print(createA(a, b))\n",
    "print(createAb(a, b))"
   ]
  },
  {
   "cell_type": "code",
   "execution_count": null,
   "metadata": {
    "collapsed": true
   },
   "outputs": [],
   "source": []
  }
 ],
 "metadata": {
  "kernelspec": {
   "display_name": "Python 3",
   "language": "python",
   "name": "python3"
  },
  "language_info": {
   "codemirror_mode": {
    "name": "ipython",
    "version": 3
   },
   "file_extension": ".py",
   "mimetype": "text/x-python",
   "name": "python",
   "nbconvert_exporter": "python",
   "pygments_lexer": "ipython3",
   "version": "3.6.6"
  }
 },
 "nbformat": 4,
 "nbformat_minor": 2
}
