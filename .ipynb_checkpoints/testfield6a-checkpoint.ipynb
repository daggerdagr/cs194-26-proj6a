{
 "cells": [
  {
   "cell_type": "code",
   "execution_count": 3,
   "metadata": {},
   "outputs": [
    {
     "name": "stdout",
     "output_type": "stream",
     "text": [
      "Populating the interactive namespace from numpy and matplotlib\n"
     ]
    }
   ],
   "source": [
    "%pylab qt"
   ]
  },
  {
   "cell_type": "code",
   "execution_count": 4,
   "metadata": {},
   "outputs": [],
   "source": [
    "from region.image import Image\n",
    "from utils import *\n",
    "import numpy"
   ]
  },
  {
   "cell_type": "markdown",
   "metadata": {},
   "source": [
    "# Utils"
   ]
  },
  {
   "cell_type": "code",
   "execution_count": 5,
   "metadata": {
    "collapsed": true
   },
   "outputs": [],
   "source": [
    "class Image6a(Image):\n",
    "    def setPts(self, pts, ptsSetup, withCorners=True):\n",
    "        if withCorners:\n",
    "            pts = np.vstack((pts, Image.getCorners(self.imArr)))\n",
    "        self.pts = pts\n",
    "        self.ptsSetup = ptsSetup\n",
    "        return self.pts\n",
    "\n",
    "    def setInputPts(self, ptSetup, withCorners=True):\n",
    "        ptsCt = sum([x for x in ptSetup.values()])\n",
    "        pts = np.array(getPoints(self, ptsCt))\n",
    "        self.setPts(pts, ptSetup, withCorners)\n",
    "        return self.pts"
   ]
  },
  {
   "cell_type": "code",
   "execution_count": 6,
   "metadata": {
    "collapsed": true
   },
   "outputs": [],
   "source": [
    "def getPoints(im, n):\n",
    "    n = int(n)\n",
    "    plt.imshow(im.imArr)\n",
    "    points = plt.ginput(n, timeout = 300, show_clicks=True)\n",
    "    plt.close()\n",
    "    print(\"Points gotten from\", im.name, \":\", str(points))\n",
    "    return np.array(points)\n",
    "\n",
    "def dispPtsOnImg(im, results):\n",
    "    plt.imshow(im)\n",
    "    plt.plot(results[:, 0], results[:, 1], 'bo')\n",
    "    for ind, tup in enumerate(results):\n",
    "        x, y = tup\n",
    "        plt.text(x, y, str(ind))\n",
    "#     for x, y in results:\n",
    "#         plt.text(x, y, \"%d-%d\" % (x,y))\n",
    "    plt.waitforbuttonpress()\n",
    "    plt.close()"
   ]
  },
  {
   "cell_type": "code",
   "execution_count": null,
   "metadata": {},
   "outputs": [],
   "source": [
    "imT1 = Image.fromPath(\"../sample_imgs/20181103_162858.jpg\")"
   ]
  },
  {
   "cell_type": "code",
   "execution_count": null,
   "metadata": {},
   "outputs": [],
   "source": [
    "viewImage(imT1.imArr)"
   ]
  },
  {
   "cell_type": "code",
   "execution_count": 20,
   "metadata": {},
   "outputs": [],
   "source": [
    "def computeH(im1Pts, im2Pts):\n",
    "    assert len(im1Pts) == len(im2Pts)\n",
    "    A = createA(im1Pts, im2Pts)\n",
    "    print(\"A:\\n\", A)\n",
    "    b = np.zeros(len(A))\n",
    "    b[-1] = 1\n",
    "    print(\"b:\\n\", b)\n",
    "    \n",
    "    x = numpy.linalg.lstsq(A, b)\n",
    "    return x"
   ]
  },
  {
   "cell_type": "code",
   "execution_count": 22,
   "metadata": {},
   "outputs": [
    {
     "name": "stdout",
     "output_type": "stream",
     "text": [
      "A:\n",
      " [[-5.150000e+02 -1.477000e+03 -1.000000e+00  0.000000e+00  0.000000e+00\n",
      "   0.000000e+00  9.841650e+05  2.822547e+06  1.911000e+03]\n",
      " [ 0.000000e+00  0.000000e+00  0.000000e+00 -5.150000e+02 -1.477000e+03\n",
      "  -1.000000e+00  7.101850e+05  2.036783e+06  1.379000e+03]\n",
      " [-5.140000e+02 -1.732000e+03 -1.000000e+00  0.000000e+00  0.000000e+00\n",
      "   0.000000e+00  9.807120e+05  3.304656e+06  1.908000e+03]\n",
      " [ 0.000000e+00  0.000000e+00  0.000000e+00 -5.140000e+02 -1.732000e+03\n",
      "  -1.000000e+00  8.301100e+05  2.797180e+06  1.615000e+03]\n",
      " [-3.330000e+02 -1.668000e+03 -1.000000e+00  0.000000e+00  0.000000e+00\n",
      "   0.000000e+00  5.700960e+05  2.855616e+06  1.712000e+03]\n",
      " [ 0.000000e+00  0.000000e+00  0.000000e+00 -3.330000e+02 -1.668000e+03\n",
      "  -1.000000e+00  5.134860e+05  2.572056e+06  1.542000e+03]\n",
      " [-6.910000e+02 -1.619000e+03 -1.000000e+00  0.000000e+00  0.000000e+00\n",
      "   0.000000e+00  1.420696e+06  3.328664e+06  2.056000e+03]\n",
      " [ 0.000000e+00  0.000000e+00  0.000000e+00 -6.910000e+02 -1.619000e+03\n",
      "  -1.000000e+00  1.049629e+06  2.459261e+06  1.519000e+03]\n",
      " [ 0.000000e+00  0.000000e+00  0.000000e+00  0.000000e+00  0.000000e+00\n",
      "   0.000000e+00  0.000000e+00  0.000000e+00  1.000000e+00]]\n",
      "b:\n",
      " [0. 0. 0. 0. 0. 0. 0. 0. 1.]\n"
     ]
    },
    {
     "name": "stderr",
     "output_type": "stream",
     "text": [
      "/Users/reginaongowarsito/anaconda3/lib/python3.6/site-packages/ipykernel_launcher.py:9: FutureWarning: `rcond` parameter will change to the default of machine precision times ``max(M, N)`` where M and N are the input matrix dimensions.\n",
      "To use the future default and silence this warning we advise to pass `rcond=None`, to keep using the old, explicitly pass `rcond=-1`.\n",
      "  if __name__ == '__main__':\n"
     ]
    },
    {
     "data": {
      "text/plain": [
       "(array([ 2.05046327e+00, -5.02168372e-01,  1.48695284e+03,  1.02541905e+00,\n",
       "         4.53880955e-01,  1.01322008e+02,  6.31609094e-04, -2.59116614e-04,\n",
       "         1.00000000e+00]),\n",
       " array([], dtype=float64),\n",
       " 9,\n",
       " array([8.31873815e+06, 6.24047895e+05, 3.40850674e+03, 3.06520776e+02,\n",
       "        2.56405675e+02, 5.83947774e+01, 1.20313667e+01, 5.93707943e-03,\n",
       "        6.70279260e-04]))"
      ]
     },
     "execution_count": 22,
     "metadata": {},
     "output_type": "execute_result"
    }
   ],
   "source": [
    "computeH(im1Pts[:4], im2Pts[:4])"
   ]
  },
  {
   "cell_type": "code",
   "execution_count": 14,
   "metadata": {
    "collapsed": true
   },
   "outputs": [],
   "source": [
    "def createA(im1Pts, im2Pts):\n",
    "    result = np.zeros((len(im1Pts) * 2 + 1, 9))\n",
    "    for i in range(len(im1Pts)):\n",
    "        im1Point = im1Pts[i]\n",
    "        im2Point = im2Pts[i]\n",
    "        \n",
    "        # first row set\n",
    "        result[i*2, 0] = -1 * im1Point[0]\n",
    "        result[i*2, 1] = -1 * im1Point[1]\n",
    "        result[i*2, 2] = -1\n",
    "        \n",
    "        result[i*2, 6] = im1Point[0] * im2Point[0]\n",
    "        result[i*2, 7] = im1Point[1] * im2Point[0]\n",
    "        result[i*2, 8] = im2Point[0]\n",
    "        \n",
    "        \n",
    "        # second row set\n",
    "        result[i*2+1, 3] = -1 * im1Point[0]\n",
    "        result[i*2+1, 4] = -1 * im1Point[1]\n",
    "        result[i*2+1, 5] = -1\n",
    "        \n",
    "        result[i*2+1, 6] = im1Point[0] * im2Point[1]\n",
    "        result[i*2+1, 7] = im1Point[1] * im2Point[1]\n",
    "        result[i*2+1, 8] = im2Point[1]\n",
    "    result[-1, -1] = 1\n",
    "    \n",
    "    return result\n",
    "    \n",
    "\n",
    "# def createA(numOfPts):\n",
    "#     result = np.zeros((numOfPts * 2, 8))\n",
    "    \n",
    "#     for i in range()"
   ]
  },
  {
   "cell_type": "code",
   "execution_count": 10,
   "metadata": {},
   "outputs": [
    {
     "name": "stderr",
     "output_type": "stream",
     "text": [
      "/Users/reginaongowarsito/anaconda3/lib/python3.6/site-packages/skimage/transform/_warps.py:84: UserWarning: The default mode, 'constant', will be changed to 'reflect' in skimage 0.15.\n",
      "  warn(\"The default mode, 'constant', will be changed to 'reflect' in \"\n"
     ]
    }
   ],
   "source": [
    "imSproul0 = Image.fromPath(\"../curated_sample_imgs/lower_sproul/lower_sproul_00.jpg\")"
   ]
  },
  {
   "cell_type": "code",
   "execution_count": null,
   "metadata": {},
   "outputs": [],
   "source": [
    "dispPtsOnImg(imSproul0.imArr, im1Pts)"
   ]
  },
  {
   "cell_type": "code",
   "execution_count": 15,
   "metadata": {},
   "outputs": [
    {
     "data": {
      "text/plain": [
       "array([[-5.150000e+02, -1.477000e+03, -1.000000e+00,  0.000000e+00,\n",
       "         0.000000e+00,  0.000000e+00,  9.841650e+05,  2.822547e+06,\n",
       "         1.911000e+03],\n",
       "       [ 0.000000e+00,  0.000000e+00,  0.000000e+00, -5.150000e+02,\n",
       "        -1.477000e+03, -1.000000e+00,  7.101850e+05,  2.036783e+06,\n",
       "         1.379000e+03],\n",
       "       [-5.140000e+02, -1.732000e+03, -1.000000e+00,  0.000000e+00,\n",
       "         0.000000e+00,  0.000000e+00,  9.807120e+05,  3.304656e+06,\n",
       "         1.908000e+03],\n",
       "       [ 0.000000e+00,  0.000000e+00,  0.000000e+00, -5.140000e+02,\n",
       "        -1.732000e+03, -1.000000e+00,  8.301100e+05,  2.797180e+06,\n",
       "         1.615000e+03],\n",
       "       [-3.330000e+02, -1.668000e+03, -1.000000e+00,  0.000000e+00,\n",
       "         0.000000e+00,  0.000000e+00,  5.700960e+05,  2.855616e+06,\n",
       "         1.712000e+03],\n",
       "       [ 0.000000e+00,  0.000000e+00,  0.000000e+00, -3.330000e+02,\n",
       "        -1.668000e+03, -1.000000e+00,  5.134860e+05,  2.572056e+06,\n",
       "         1.542000e+03],\n",
       "       [-6.910000e+02, -1.619000e+03, -1.000000e+00,  0.000000e+00,\n",
       "         0.000000e+00,  0.000000e+00,  1.420696e+06,  3.328664e+06,\n",
       "         2.056000e+03],\n",
       "       [ 0.000000e+00,  0.000000e+00,  0.000000e+00, -6.910000e+02,\n",
       "        -1.619000e+03, -1.000000e+00,  1.049629e+06,  2.459261e+06,\n",
       "         1.519000e+03],\n",
       "       [-7.910000e+02, -1.605000e+03, -1.000000e+00,  0.000000e+00,\n",
       "         0.000000e+00,  0.000000e+00,  1.692740e+06,  3.434700e+06,\n",
       "         2.140000e+03],\n",
       "       [ 0.000000e+00,  0.000000e+00,  0.000000e+00, -7.910000e+02,\n",
       "        -1.605000e+03, -1.000000e+00,  1.198365e+06,  2.431575e+06,\n",
       "         1.515000e+03],\n",
       "       [-1.286000e+03, -1.535000e+03, -1.000000e+00,  0.000000e+00,\n",
       "         0.000000e+00,  0.000000e+00,  3.341028e+06,  3.987930e+06,\n",
       "         2.598000e+03],\n",
       "       [ 0.000000e+00,  0.000000e+00,  0.000000e+00, -1.286000e+03,\n",
       "        -1.535000e+03, -1.000000e+00,  1.913568e+06,  2.284080e+06,\n",
       "         1.488000e+03],\n",
       "       [-2.038000e+03, -1.408000e+03, -1.000000e+00,  0.000000e+00,\n",
       "         0.000000e+00,  0.000000e+00,  6.990340e+06,  4.829440e+06,\n",
       "         3.430000e+03],\n",
       "       [ 0.000000e+00,  0.000000e+00,  0.000000e+00, -2.038000e+03,\n",
       "        -1.408000e+03, -1.000000e+00,  2.885808e+06,  1.993728e+06,\n",
       "         1.416000e+03],\n",
       "       [-2.032000e+03, -1.528000e+03, -1.000000e+00,  0.000000e+00,\n",
       "         0.000000e+00,  0.000000e+00,  6.951472e+06,  5.227288e+06,\n",
       "         3.421000e+03],\n",
       "       [ 0.000000e+00,  0.000000e+00,  0.000000e+00, -2.032000e+03,\n",
       "        -1.528000e+03, -1.000000e+00,  3.139440e+06,  2.360760e+06,\n",
       "         1.545000e+03],\n",
       "       [ 0.000000e+00,  0.000000e+00,  0.000000e+00,  0.000000e+00,\n",
       "         0.000000e+00,  0.000000e+00,  0.000000e+00,  0.000000e+00,\n",
       "         1.000000e+00]])"
      ]
     },
     "execution_count": 15,
     "metadata": {},
     "output_type": "execute_result"
    }
   ],
   "source": [
    "im1Pts = np.array([[515, 1477], [514, 1732], [333, 1668], [691, 1619], [791, 1605], [1286, 1535], [2038, 1408], [2032, 1528]])\n",
    "im2Pts = np.array([[1911, 1379], [1908, 1615], [1712, 1542], [2056, 1519], [2140, 1515], [2598, 1488], [3430, 1416], [3421, 1545]])\n",
    "# im1Pts = np.array([])\n",
    "# im2Pts = np.array([])\n",
    "createA(im1Pts, im2Pts)"
   ]
  },
  {
   "cell_type": "code",
   "execution_count": null,
   "metadata": {
    "collapsed": true
   },
   "outputs": [],
   "source": []
  }
 ],
 "metadata": {
  "kernelspec": {
   "display_name": "Python 3",
   "language": "python",
   "name": "python3"
  },
  "language_info": {
   "codemirror_mode": {
    "name": "ipython",
    "version": 3
   },
   "file_extension": ".py",
   "mimetype": "text/x-python",
   "name": "python",
   "nbconvert_exporter": "python",
   "pygments_lexer": "ipython3",
   "version": "3.6.6"
  }
 },
 "nbformat": 4,
 "nbformat_minor": 2
}
