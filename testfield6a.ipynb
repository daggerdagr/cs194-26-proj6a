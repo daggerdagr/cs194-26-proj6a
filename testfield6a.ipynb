{
 "cells": [
  {
   "cell_type": "code",
   "execution_count": 1,
   "metadata": {},
   "outputs": [
    {
     "name": "stdout",
     "output_type": "stream",
     "text": [
      "Populating the interactive namespace from numpy and matplotlib\n"
     ]
    }
   ],
   "source": [
    "%pylab qt"
   ]
  },
  {
   "cell_type": "code",
   "execution_count": 2,
   "metadata": {},
   "outputs": [
    {
     "name": "stderr",
     "output_type": "stream",
     "text": [
      "/Users/reginaongowarsito/anaconda3/lib/python3.6/importlib/_bootstrap.py:219: RuntimeWarning: numpy.dtype size changed, may indicate binary incompatibility. Expected 96, got 88\n",
      "  return f(*args, **kwds)\n",
      "/Users/reginaongowarsito/anaconda3/lib/python3.6/importlib/_bootstrap.py:219: RuntimeWarning: numpy.dtype size changed, may indicate binary incompatibility\n",
      "  return f(*args, **kwds)\n"
     ]
    }
   ],
   "source": [
    "from region.image import Image\n",
    "from utils import *\n",
    "import numpy\n",
    "from skimage.draw import polygon_perimeter, polygon\n",
    "from scipy.interpolate import interp2d, dfitpack"
   ]
  },
  {
   "cell_type": "code",
   "execution_count": 77,
   "metadata": {},
   "outputs": [],
   "source": [
    "np.set_printoptions(suppress=True)\n",
    "# numpy.set_printoptions(threshold=numpy.nan)\n",
    "numpy.set_printoptions(threshold=1000)\n"
   ]
  },
  {
   "cell_type": "markdown",
   "metadata": {},
   "source": [
    "# Utils"
   ]
  },
  {
   "cell_type": "code",
   "execution_count": 4,
   "metadata": {},
   "outputs": [
    {
     "data": {
      "text/plain": [
       "array([[  0,   0],\n",
       "       [  0, 520],\n",
       "       [520, 550],\n",
       "       [550,   0]])"
      ]
     },
     "execution_count": 4,
     "metadata": {},
     "output_type": "execute_result"
    }
   ],
   "source": [
    "np.array([[0, 0], [0, 520], [520, 550], [550, 0]])"
   ]
  },
  {
   "cell_type": "code",
   "execution_count": 56,
   "metadata": {
    "collapsed": true
   },
   "outputs": [],
   "source": [
    "def getPoints(im, n):\n",
    "    n = int(n)\n",
    "    plt.imshow(im.imArr)\n",
    "    points = plt.ginput(n, timeout = 300, show_clicks=True)\n",
    "    plt.close()\n",
    "    print(\"Points gotten from\", im.name, \":\", str(points))\n",
    "    return np.array(points)\n",
    "\n",
    "def dispPtsOnImg(im, results, tag=False):\n",
    "    dispPtsOnImgRC(im, results[:, 0], results[:, 1], tag)\n",
    "\n",
    "def dispPtsOnImgRC(im, rowInds, colInds, tag=False):\n",
    "    assert len(rowInds) == len(colInds)\n",
    "    plt.imshow(im)\n",
    "    plt.plot(rowInds, colInds, 'bo')\n",
    "    if tag:\n",
    "        for ind in range(len(rowInds)):\n",
    "            x, y = rowInds[ind], colInds[ind]\n",
    "            plt.text(x, y, str(ind), bbox=dict(facecolor='blue', alpha=0.5))\n",
    "            plt.text(x, y, \"%d-%d\" % (x,y), bbox=dict(facecolor='red', alpha=0.5))\n",
    "    plt.waitforbuttonpress()\n",
    "    plt.close()"
   ]
  },
  {
   "cell_type": "code",
   "execution_count": null,
   "metadata": {},
   "outputs": [],
   "source": [
    "imT1 = Image.fromPath(\"../sample_imgs/20181103_162858.jpg\")"
   ]
  },
  {
   "cell_type": "code",
   "execution_count": null,
   "metadata": {},
   "outputs": [],
   "source": [
    "viewImage(imT1.imArr)"
   ]
  },
  {
   "cell_type": "code",
   "execution_count": 6,
   "metadata": {},
   "outputs": [],
   "source": [
    "def computeH(startPts, endPts):\n",
    "    assert len(startPts) == len(endPts)\n",
    "    A, b = createA(startPts, endPts)\n",
    "#     Axx = createAb(startPts, endPts)\n",
    "#     bxx = np.zeros(len(Axx))\n",
    "#     bxx[-1] = 1\n",
    "#     print(\"whoomp: \", numpy.linalg.lstsq(Axx, bxx)[0])\n",
    "    \n",
    "    x = numpy.linalg.lstsq(A, b)\n",
    "    result = np.append(x[0], 1)\n",
    "    return result.reshape(3, 3)"
   ]
  },
  {
   "cell_type": "code",
   "execution_count": null,
   "metadata": {},
   "outputs": [],
   "source": [
    "computeH(im1Pts, im2Pts)"
   ]
  },
  {
   "cell_type": "code",
   "execution_count": 13,
   "metadata": {},
   "outputs": [
    {
     "name": "stderr",
     "output_type": "stream",
     "text": [
      "/Users/reginaongowarsito/anaconda3/lib/python3.6/site-packages/skimage/transform/_warps.py:84: UserWarning: The default mode, 'constant', will be changed to 'reflect' in skimage 0.15.\n",
      "  warn(\"The default mode, 'constant', will be changed to 'reflect' in \"\n"
     ]
    }
   ],
   "source": [
    "imSproul0 = Image.fromPath(\"../curated_sample_imgs/lower_sproul/lower_sproul_00.jpg\", 0.25)\n",
    "imSproul0.readCoordsIn(\"../curated_sample_imgs/lower_sproul/lower_sproul_00.txt\")\n",
    "imSproul0.pts = imSproul0.pts * 0.25\n",
    "imSproul1 = Image.fromPath(\"../curated_sample_imgs/lower_sproul/lower_sproul_01.jpg\", 0.25)\n",
    "imSproul1.readCoordsIn(\"../curated_sample_imgs/lower_sproul/lower_sproul_01.txt\")\n",
    "imSproul1.pts = imSproul1.pts * 0.25"
   ]
  },
  {
   "cell_type": "code",
   "execution_count": 8,
   "metadata": {
    "collapsed": true
   },
   "outputs": [],
   "source": [
    "def createAb(startPts, endPts):\n",
    "    result = np.zeros((len(startPts) * 2 + 1, 9))\n",
    "    for i in range(len(startPts)):\n",
    "        startPoint = startPts[i]\n",
    "        endPoint = endPts[i]\n",
    "        \n",
    "        # first row set\n",
    "        result[i*2, 0] = -1 * startPoint[0]\n",
    "        result[i*2, 1] = -1 * startPoint[1]\n",
    "        result[i*2, 2] = -1\n",
    "        \n",
    "        result[i*2, 6] = startPoint[0] * endPoint[0]\n",
    "        result[i*2, 7] = startPoint[1] * endPoint[0]\n",
    "        result[i*2, 8] = endPoint[0]\n",
    "        \n",
    "        \n",
    "        # second row set\n",
    "        result[i*2+1, 3] = -1 * startPoint[0]\n",
    "        result[i*2+1, 4] = -1 * startPoint[1]\n",
    "        result[i*2+1, 5] = -1\n",
    "        \n",
    "        result[i*2+1, 6] = startPoint[0] * endPoint[1]\n",
    "        result[i*2+1, 7] = startPoint[1] * endPoint[1]\n",
    "        result[i*2+1, 8] = endPoint[1]\n",
    "    result[-1, -1] = 1\n",
    "    \n",
    "    return result\n",
    "\n",
    "\n",
    "def createA(startPts, endPts):\n",
    "    result = np.zeros((len(startPts) * 2, 8))\n",
    "    b = np.zeros(len(result))\n",
    "    for i in range(len(startPts)):\n",
    "        startPoint = startPts[i]\n",
    "        endPoint = endPts[i]\n",
    "        \n",
    "        # first row set\n",
    "        result[i*2, 0] = -1 * startPoint[0]\n",
    "        result[i*2, 1] = -1 * startPoint[1]\n",
    "        result[i*2, 2] = -1\n",
    "        \n",
    "        result[i*2, 6] = startPoint[0] * endPoint[0]\n",
    "        result[i*2, 7] = startPoint[1] * endPoint[0]\n",
    "        b[i*2] = -endPoint[0]\n",
    "        \n",
    "        \n",
    "        # second row set\n",
    "        result[i*2+1, 3] = -1 * startPoint[0]\n",
    "        result[i*2+1, 4] = -1 * startPoint[1]\n",
    "        result[i*2+1, 5] = -1\n",
    "        \n",
    "        result[i*2+1, 6] = startPoint[0] * endPoint[1]\n",
    "        result[i*2+1, 7] = startPoint[1] * endPoint[1]\n",
    "        b[i*2+1] = -endPoint[1]\n",
    "    # result[-1, -1] = 1\n",
    "    \n",
    "    return result, b\n",
    "    \n",
    "\n",
    "# def createA(numOfPts):\n",
    "#     result = np.zeros((numOfPts * 2, 8))\n",
    "    \n",
    "#     for i in range()\n",
    "\n",
    "# def createA(numOfPts):\n",
    "#     result = np.zeros((numOfPts * 2, 8))\n",
    "    \n",
    "#     for i in range()"
   ]
  },
  {
   "cell_type": "code",
   "execution_count": null,
   "metadata": {},
   "outputs": [],
   "source": [
    "dispPtsOnImg(imSproul0.imArr, imSproul0.pts)\n",
    "dispPtsOnImg(imSproul1.imArr, imSproul1.pts)"
   ]
  },
  {
   "cell_type": "code",
   "execution_count": null,
   "metadata": {},
   "outputs": [],
   "source": [
    "\"\"\"\n",
    "p' = H p\n",
    "where\n",
    "    p' = target\n",
    "    p = source\n",
    "\n",
    "place on p' the color on p\n",
    "\n",
    "---\n",
    "\n",
    "get the points in final image that actually will need a value from source image\n",
    "    do by calculating the results of the corners of the source img getting transformed,\n",
    "    then using polygon to get the coordinates that actually lies inside the polygon, so you dont do the coords that isnt in it\n",
    "    \n",
    "\n",
    "for every point in p', get the corresponding p with p' * H^-1\n",
    "\n",
    "\"\"\""
   ]
  },
  {
   "cell_type": "code",
   "execution_count": null,
   "metadata": {},
   "outputs": [],
   "source": [
    "sourcePts = imSproul0.pts\n",
    "targetPts = imSproul1.pts\n",
    "\n",
    "H = computeH(sourcePts, targetPts)\n",
    "print(\"source:\", sourcePts)\n",
    "print(\"transformed source:\", transf(H, sourcePts))\n",
    "print(\"target:\", targetPts)\n",
    "\n",
    "dispPtsOnImg(imSproul0.imArr, sourcePts)\n",
    "dispPtsOnImg(imSproul1.imArr, transf(H, sourcePts))"
   ]
  },
  {
   "cell_type": "code",
   "execution_count": 9,
   "metadata": {
    "collapsed": true
   },
   "outputs": [],
   "source": [
    "def transf(H, res, normalize=True):\n",
    "    if res.ndim == 1:\n",
    "        vect = np.append(res, 1)\n",
    "    else:\n",
    "        vect = np.vstack((res.T, np.ones(len(res))))\n",
    "    tfSourceCorners = np.dot(H, vect)\n",
    "    \n",
    "    if normalize:\n",
    "        for i in range(tfSourceCorners.shape[1]):\n",
    "            corner = tfSourceCorners[:, i]\n",
    "            normCorner = np.dot(corner, 1/(corner[2]))\n",
    "            tfSourceCorners[:, i] = normCorner\n",
    "    return tfSourceCorners[:-1, :].T"
   ]
  },
  {
   "cell_type": "code",
   "execution_count": 10,
   "metadata": {
    "collapsed": true
   },
   "outputs": [],
   "source": [
    "def getDimensions(imCornersCoords):\n",
    "    # assuming imCornersCoords = [[width, height]]\n",
    "    \n",
    "    minWidth = int(np.floor(min(imCornersCoords[:, 0])))\n",
    "    minHeight = int(np.floor(min(imCornersCoords[:, 1])))\n",
    "    \n",
    "    maxWidth = int(np.ceil(max(imCornersCoords[:, 0])))\n",
    "    maxHeight = int(np.ceil(max(imCornersCoords[:, 1])))\n",
    "    \n",
    "    totalWidth = maxWidth - minWidth + 1\n",
    "    totalHeight = maxHeight - minHeight + 1\n",
    "    \n",
    "    tup = totalHeight, totalWidth, minHeight, minWidth\n",
    "    print(tup)\n",
    "    \n",
    "    return tup\n",
    "    "
   ]
  },
  {
   "cell_type": "code",
   "execution_count": 112,
   "metadata": {},
   "outputs": [],
   "source": [
    "def findAllCoords(tfSourceCorners):\n",
    "    \n",
    "    xCorners = tfSourceCorners[:, 0]\n",
    "    yCorners = tfSourceCorners[:, 1]\n",
    "    \n",
    "    flatMinX = int(np.floor(min(xCorners)))\n",
    "    flatMinY = int(np.floor(min(yCorners)))\n",
    "    newXCorners = xCorners - flatMinX\n",
    "    newYCorners = yCorners - flatMinY\n",
    "    \n",
    "    \n",
    "    innerCoordsR, innerCoordsC = polygon(newXCorners, newYCorners)\n",
    "    finInnerCoordsR, finInnerCoordsC = innerCoordsR + flatMinX, innerCoordsC + flatMinY\n",
    "    \n",
    "    \n",
    "    perimCoordsR, perimCoordsC = polygon_perimeter(xCorners, yCorners)\n",
    "    allCoordsR = np.append(finInnerCoordsR, perimCoordsR)\n",
    "    allCoordsC = np.append(finInnerCoordsC, perimCoordsC)\n",
    "\n",
    "#     allCoordsR = finInnerCoordsR\n",
    "#     allCoordsC = finInnerCoordsC\n",
    "\n",
    "#     allCoordsR = perimCoordsR\n",
    "#     allCoordsC = perimCoordsC\n",
    "\n",
    "    targetPs = np.vstack((allCoordsR, allCoordsC)).T\n",
    "    \n",
    "    return targetPs"
   ]
  },
  {
   "cell_type": "code",
   "execution_count": 107,
   "metadata": {},
   "outputs": [],
   "source": [
    "class WarpedImageInfo:\n",
    "    \n",
    "    def __init__(self, corners, targetPs, rvals, gvals, bvals):\n",
    "        self.corners = corners\n",
    "        self.targetPs = targetPs\n",
    "        self.rvals = rvals\n",
    "        self.gvals = gvals\n",
    "        self.bvals = bvals\n",
    "        \n",
    "    def createImageObj(self, newImage=None, minH = 0, minW = 0, name = \"\"):\n",
    "        if newImage == None:\n",
    "            finH, finW, minH, minW = getDimensions(self.corners)\n",
    "            newImage = Image(name, np.zeros((finH, finW, 3)))\n",
    "        newImage.imArr[self.targetPs[:, 1] - minH, self.targetPs[:, 0] - minW, 0] = self.rvals\n",
    "        newImage.imArr[self.targetPs[:, 1] - minH, self.targetPs[:, 0] - minW, 1] = self.gvals\n",
    "        newImage.imArr[self.targetPs[:, 1] - minH, self.targetPs[:, 0] - minW, 2] = self.bvals\n",
    "        return newImage\n",
    "\n",
    "def warpTo(imSource, sourcePts, targetPts):\n",
    "\n",
    "    H = computeH(sourcePts, targetPts)\n",
    "    sourceCorners = Image.getCorners(imSource)\n",
    "    tfSourceCorners = transf(H, sourceCorners)\n",
    "\n",
    "    print(\"sourceCorners:\", sourceCorners)\n",
    "    print(\"tfSourceCorners:\", tfSourceCorners)\n",
    "\n",
    "    targetPs = findAllCoords(tfSourceCorners)\n",
    "\n",
    "    invH = np.linalg.inv(H)\n",
    "\n",
    "    sourcePs = transf(invH, targetPs)\n",
    "    \n",
    "    source_Rchan = interp2d(range(imSource.width), range(imSource.height), imSource.imArr[:, :, 0])\n",
    "    source_Gchan = interp2d(range(imSource.width), range(imSource.height), imSource.imArr[:, :, 1])\n",
    "    source_Bchan = interp2d(range(imSource.width), range(imSource.height), imSource.imArr[:, :, 2])\n",
    "    autoInterp = lambda f, xs, ys: dfitpack.bispeu(f.tck[0], f.tck[1], f.tck[2], f.tck[3], f.tck[4], xs, ys)[0]\n",
    "\n",
    "    Rvals = autoInterp(source_Rchan, sourcePs[:, 0], sourcePs[:, 1])\n",
    "    Gvals = autoInterp(source_Gchan, sourcePs[:, 0], sourcePs[:, 1])\n",
    "    Bvals = autoInterp(source_Bchan, sourcePs[:, 0], sourcePs[:, 1])\n",
    "    \n",
    "    \n",
    "    return WarpedImageInfo(tfSourceCorners, targetPs, Rvals, Gvals, Bvals)\n",
    "\n",
    "def warpProcess(imBase, imBasePts, imgList):\n",
    "\n",
    "    warpedResults = []\n",
    "    for im in imgList:\n",
    "\n",
    "        imPts = im.pts\n",
    "\n",
    "        warpedResults.append(warpTo(im, imPts, imBasePts))\n",
    "\n",
    "    allCorners = np.vstack([warped.corners for warped in warpedResults])\n",
    "    print(allCorners)\n",
    "    finH, finW, minH, minW = getDimensions(allCorners)\n",
    "    # finalImage = Image(\"finalImage\", np.zeros((finH, finW, 3)))\n",
    "\n",
    "    newWarpedImages = []\n",
    "    # for warped in warpedResults:\n",
    "    for i in range(len(warpedResults)):\n",
    "        warped = warpedResults[i]\n",
    "        newImage = Image(\"finalImage\", np.zeros((finH, finW, 3)))\n",
    "        newWarpedImages.append(warped.createImageObj(newImage, minH = minH, minW = minW))\n",
    "    \n",
    "    return newWarpedImages"
   ]
  },
  {
   "cell_type": "code",
   "execution_count": null,
   "metadata": {
    "collapsed": true
   },
   "outputs": [],
   "source": [
    "imgList = [imSproul0, imSproul1]\n",
    "imBase = imSproul1\n",
    "imBasePts = imSproul1.pts\n",
    "\n",
    "result = warpProcess(imBase, imBasePts, imgList)\n",
    "for i in range(len(result)):\n",
    "    im = result[i]\n",
    "    printImage(str(i) + \".jpg\", im.imArr)"
   ]
  },
  {
   "cell_type": "code",
   "execution_count": 60,
   "metadata": {},
   "outputs": [
    {
     "name": "stderr",
     "output_type": "stream",
     "text": [
      "/Users/reginaongowarsito/anaconda3/lib/python3.6/site-packages/skimage/transform/_warps.py:84: UserWarning: The default mode, 'constant', will be changed to 'reflect' in skimage 0.15.\n",
      "  warn(\"The default mode, 'constant', will be changed to 'reflect' in \"\n"
     ]
    },
    {
     "name": "stdout",
     "output_type": "stream",
     "text": [
      "[[  0.    0. ]\n",
      " [  0.  130. ]\n",
      " [130.  137.5]\n",
      " [137.5   0. ]]\n"
     ]
    }
   ],
   "source": [
    "imRect = Image.fromPath(\"../curated_sample_imgs/lower_sproul/lower_sproul_00.jpg\", 0.25)\n",
    "imRect.readCoordsIn(\"../curated_sample_imgs/lower_sproul/rect_orig_lower_sproul_00.txt\")\n",
    "imRect.pts = imRect.pts * 0.25\n",
    "dispPtsOnImg(imRect.imArr, imRect.pts)\n",
    "\n",
    "targPts = Image.readCoords(\"../curated_sample_imgs/lower_sproul/rect_targ_lower_sproul_00.txt\")\n",
    "targPts = targPts * 0.25\n",
    "print(targPts)\n",
    "dispPtsOnImg(imRect.imArr, targPts)"
   ]
  },
  {
   "cell_type": "code",
   "execution_count": 113,
   "metadata": {},
   "outputs": [
    {
     "name": "stderr",
     "output_type": "stream",
     "text": [
      "/Users/reginaongowarsito/anaconda3/lib/python3.6/site-packages/ipykernel_launcher.py:9: FutureWarning: `rcond` parameter will change to the default of machine precision times ``max(M, N)`` where M and N are the input matrix dimensions.\n",
      "To use the future default and silence this warning we advise to pass `rcond=None`, to keep using the old, explicitly pass `rcond=-1`.\n",
      "  if __name__ == '__main__':\n"
     ]
    },
    {
     "name": "stdout",
     "output_type": "stream",
     "text": [
      "sourceCorners: [[   0    0]\n",
      " [   0  489]\n",
      " [1007  489]\n",
      " [1007    0]]\n",
      "tfSourceCorners: [[-1851.51890123  -384.08664719]\n",
      " [-1275.92323581   549.85174944]\n",
      " [  268.97870013   267.84120638]\n",
      " [  281.92799456  -149.90243403]]\n"
     ]
    }
   ],
   "source": [
    "res = warpTo(imRect, imRect.pts, targPts)"
   ]
  },
  {
   "cell_type": "code",
   "execution_count": 114,
   "metadata": {},
   "outputs": [
    {
     "data": {
      "text/plain": [
       "array([[-1851,  -384],\n",
       "       [-1850,  -383],\n",
       "       [-1850,  -382],\n",
       "       ...,\n",
       "       [-1850,  -384],\n",
       "       [-1851,  -384],\n",
       "       [-1852,  -384]])"
      ]
     },
     "execution_count": 114,
     "metadata": {},
     "output_type": "execute_result"
    }
   ],
   "source": [
    "res.targetPs"
   ]
  },
  {
   "cell_type": "code",
   "execution_count": 118,
   "metadata": {},
   "outputs": [
    {
     "name": "stdout",
     "output_type": "stream",
     "text": [
      "(936, 2135, -385, -1852)\n",
      "File saved to: output_imgs/20181110180317_rectified.jpg\n"
     ]
    },
    {
     "name": "stderr",
     "output_type": "stream",
     "text": [
      "/Users/reginaongowarsito/anaconda3/lib/python3.6/site-packages/skimage/util/dtype.py:122: UserWarning: Possible precision loss when converting from float64 to uint8\n",
      "  .format(dtypeobj_in, dtypeobj_out))\n"
     ]
    }
   ],
   "source": [
    "im = res.createImageObj()\n",
    "printImage(\"rectified.jpg\", im.imArr)"
   ]
  },
  {
   "cell_type": "code",
   "execution_count": 94,
   "metadata": {},
   "outputs": [
    {
     "data": {
      "text/plain": [
       "(array([0]), array([0]))"
      ]
     },
     "execution_count": 94,
     "metadata": {},
     "output_type": "execute_result"
    }
   ],
   "source": [
    "polygon([0, 0.5, 0.5, 0], [0, 0, 0.5, 0.5])"
   ]
  },
  {
   "cell_type": "code",
   "execution_count": null,
   "metadata": {},
   "outputs": [],
   "source": [
    "imTestImage = Image.fromPath(\"../curated_sample_imgs/test_image.png\")\n",
    "imSource = imTestImage\n",
    "\n",
    "source_Rchan = interp2d(range(imSource.width), range(imSource.height), imSource.imArr[:, :, 0])\n",
    "source_Gchan = interp2d(range(imSource.width), range(imSource.height), imSource.imArr[:, :, 1])\n",
    "source_Bchan = interp2d(range(imSource.width), range(imSource.height), imSource.imArr[:, :, 2])\n",
    "\n",
    "autoInterp = lambda f, xs, ys: dfitpack.bispeu(f.tck[0], f.tck[1], f.tck[2], f.tck[3], f.tck[4], xs, ys)[0]\n",
    "\n",
    "######\n",
    "\n",
    "sourceCorners = np.array([[0, 0], [0, 479], [479, 479], [479, 0]])\n",
    "\n",
    "tfSourceCorners = np.array([[99, 99], [99, 579], [579, 579], [579, 99]])\n",
    "\n",
    "H = computeH(sourceCorners, tfSourceCorners)\n",
    "print(H)\n",
    "\n",
    "\n",
    "###\n",
    "\n",
    "\n",
    "innerCoordsR, innerCoordsC = polygon(tfSourceCorners[:, 0], tfSourceCorners[:, 1])\n",
    "perimCoordsR, perimCoordsC = polygon_perimeter(tfSourceCorners[:, 0], tfSourceCorners[:, 1])\n",
    "allCoordsR = np.append(innerCoordsR, perimCoordsR)\n",
    "allCoordsC = np.append(innerCoordsC, perimCoordsC)\n",
    "\n",
    "targetPs = np.vstack((allCoordsC, allCoordsR)).T\n",
    "\n",
    "\n",
    "invH = np.linalg.inv(H)\n",
    "\n",
    "sourcePs = transf(invH, targetPs)\n",
    "\n",
    "\n",
    "finH = int(np.ceil(max(targetPs[:, 1])))\n",
    "finW = int(np.ceil(max(targetPs[:, 0])))\n",
    "finalImage = Image(\"finalImage\", np.zeros((finH + 1, finW + 1, 3)))\n",
    "print(finalImage.imArr.shape)\n",
    "\n",
    "Rvals = autoInterp(source_Rchan, sourcePs[:, 0], sourcePs[:, 1])\n",
    "Gvals = autoInterp(source_Gchan, sourcePs[:, 0], sourcePs[:, 1])\n",
    "Bvals = autoInterp(source_Bchan, sourcePs[:, 0], sourcePs[:, 1])\n",
    "print(targetPs)\n",
    "\n",
    "finalImage.imArr[targetPs[:, 1], targetPs[:, 0], 0] = Rvals\n",
    "finalImage.imArr[targetPs[:, 1], targetPs[:, 0], 1] = Gvals\n",
    "finalImage.imArr[targetPs[:, 1], targetPs[:, 0], 2] = Bvals\n",
    "\n",
    "viewImage(finalImage.imArr)"
   ]
  },
  {
   "cell_type": "code",
   "execution_count": null,
   "metadata": {},
   "outputs": [],
   "source": [
    "from skimage.draw import polygon_perimeter\n",
    "img = np.zeros((10, 10), dtype=np.uint8)\n",
    "rr, cc = polygon_perimeter([6, 1, 5, 10],\n",
    "                           [1, 5, 11, 5],\n",
    "                           shape=img.shape, clip=True)\n",
    "img[rr, cc] = 1\n",
    "img"
   ]
  },
  {
   "cell_type": "code",
   "execution_count": null,
   "metadata": {},
   "outputs": [],
   "source": [
    "np.append(np.array([1, 2, 3]), 1)"
   ]
  },
  {
   "cell_type": "code",
   "execution_count": null,
   "metadata": {},
   "outputs": [],
   "source": [
    "a = np.array([[0, 0]])\n",
    "b = np.array([[2, 2]])\n",
    "print(createA(a, b))\n",
    "print(createAb(a, b))"
   ]
  },
  {
   "cell_type": "code",
   "execution_count": null,
   "metadata": {
    "collapsed": true
   },
   "outputs": [],
   "source": []
  }
 ],
 "metadata": {
  "kernelspec": {
   "display_name": "Python 3",
   "language": "python",
   "name": "python3"
  },
  "language_info": {
   "codemirror_mode": {
    "name": "ipython",
    "version": 3
   },
   "file_extension": ".py",
   "mimetype": "text/x-python",
   "name": "python",
   "nbconvert_exporter": "python",
   "pygments_lexer": "ipython3",
   "version": "3.6.6"
  }
 },
 "nbformat": 4,
 "nbformat_minor": 2
}
