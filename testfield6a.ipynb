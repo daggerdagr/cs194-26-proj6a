{
 "cells": [
  {
   "cell_type": "code",
   "execution_count": 1,
   "metadata": {},
   "outputs": [
    {
     "name": "stdout",
     "output_type": "stream",
     "text": [
      "Populating the interactive namespace from numpy and matplotlib\n"
     ]
    }
   ],
   "source": [
    "%pylab qt"
   ]
  },
  {
   "cell_type": "code",
   "execution_count": 204,
   "metadata": {},
   "outputs": [],
   "source": [
    "from region.image import Image\n",
    "from utils import *\n",
    "import numpy\n",
    "import skimage.filters\n",
    "from skimage.draw import polygon_perimeter, polygon\n",
    "from scipy.interpolate import interp2d, dfitpack\n",
    "import scipy.ndimage.morphology"
   ]
  },
  {
   "cell_type": "code",
   "execution_count": 150,
   "metadata": {},
   "outputs": [],
   "source": [
    "np.set_printoptions(suppress=True)\n",
    "# numpy.set_printoptions(threshold=numpy.nan)\n",
    "numpy.set_printoptions(threshold=1000)"
   ]
  },
  {
   "cell_type": "code",
   "execution_count": 190,
   "metadata": {
    "collapsed": true
   },
   "outputs": [],
   "source": [
    "def getCorners(image, padding = 0):\n",
    "    imArr = image.imArr\n",
    "    return np.array(\n",
    "        [(0 - padding, 0 - padding), (0 - padding, imArr.shape[0] + padding - 1), (imArr.shape[1] + padding - 1, imArr.shape[0] + padding - 1), (imArr.shape[1] + padding - 1, 0 - padding)])\n",
    "Image.getCorners = getCorners"
   ]
  },
  {
   "cell_type": "markdown",
   "metadata": {},
   "source": [
    "# Utils"
   ]
  },
  {
   "cell_type": "code",
   "execution_count": 56,
   "metadata": {
    "collapsed": true
   },
   "outputs": [],
   "source": [
    "def getPoints(im, n):\n",
    "    n = int(n)\n",
    "    plt.imshow(im.imArr)\n",
    "    points = plt.ginput(n, timeout = 300, show_clicks=True)\n",
    "    plt.close()\n",
    "    print(\"Points gotten from\", im.name, \":\", str(points))\n",
    "    return np.array(points)\n",
    "\n",
    "def dispPtsOnImg(im, results, tag=False):\n",
    "    dispPtsOnImgRC(im, results[:, 0], results[:, 1], tag)\n",
    "\n",
    "def dispPtsOnImgRC(im, rowInds, colInds, tag=False):\n",
    "    assert len(rowInds) == len(colInds)\n",
    "    plt.imshow(im)\n",
    "    plt.plot(rowInds, colInds, 'bo')\n",
    "    if tag:\n",
    "        for ind in range(len(rowInds)):\n",
    "            x, y = rowInds[ind], colInds[ind]\n",
    "            plt.text(x, y, str(ind), bbox=dict(facecolor='blue', alpha=0.5))\n",
    "            plt.text(x, y, \"%d-%d\" % (x,y), bbox=dict(facecolor='red', alpha=0.5))\n",
    "    plt.waitforbuttonpress()\n",
    "    plt.close()"
   ]
  },
  {
   "cell_type": "code",
   "execution_count": 119,
   "metadata": {},
   "outputs": [],
   "source": [
    "def computeH(startPts, endPts):\n",
    "    assert len(startPts) == len(endPts)\n",
    "    A, b = createAb(startPts, endPts)\n",
    "    \n",
    "    x = numpy.linalg.lstsq(A, b)\n",
    "    result = np.append(x[0], 1)\n",
    "    return result.reshape(3, 3)"
   ]
  },
  {
   "cell_type": "code",
   "execution_count": 120,
   "metadata": {
    "collapsed": true
   },
   "outputs": [],
   "source": [
    "def createAxxx(startPts, endPts):\n",
    "    result = np.zeros((len(startPts) * 2 + 1, 9))\n",
    "    for i in range(len(startPts)):\n",
    "        startPoint = startPts[i]\n",
    "        endPoint = endPts[i]\n",
    "        \n",
    "        # first row set\n",
    "        result[i*2, 0] = -1 * startPoint[0]\n",
    "        result[i*2, 1] = -1 * startPoint[1]\n",
    "        result[i*2, 2] = -1\n",
    "        \n",
    "        result[i*2, 6] = startPoint[0] * endPoint[0]\n",
    "        result[i*2, 7] = startPoint[1] * endPoint[0]\n",
    "        result[i*2, 8] = endPoint[0]\n",
    "        \n",
    "        \n",
    "        # second row set\n",
    "        result[i*2+1, 3] = -1 * startPoint[0]\n",
    "        result[i*2+1, 4] = -1 * startPoint[1]\n",
    "        result[i*2+1, 5] = -1\n",
    "        \n",
    "        result[i*2+1, 6] = startPoint[0] * endPoint[1]\n",
    "        result[i*2+1, 7] = startPoint[1] * endPoint[1]\n",
    "        result[i*2+1, 8] = endPoint[1]\n",
    "    result[-1, -1] = 1\n",
    "    \n",
    "    return result\n",
    "\n",
    "\n",
    "def createAb(startPts, endPts):\n",
    "    result = np.zeros((len(startPts) * 2, 8))\n",
    "    b = np.zeros(len(result))\n",
    "    for i in range(len(startPts)):\n",
    "        startPoint = startPts[i]\n",
    "        endPoint = endPts[i]\n",
    "        \n",
    "        # first row set\n",
    "        result[i*2, 0] = -1 * startPoint[0]\n",
    "        result[i*2, 1] = -1 * startPoint[1]\n",
    "        result[i*2, 2] = -1\n",
    "        \n",
    "        result[i*2, 6] = startPoint[0] * endPoint[0]\n",
    "        result[i*2, 7] = startPoint[1] * endPoint[0]\n",
    "        b[i*2] = -endPoint[0]\n",
    "        \n",
    "        \n",
    "        # second row set\n",
    "        result[i*2+1, 3] = -1 * startPoint[0]\n",
    "        result[i*2+1, 4] = -1 * startPoint[1]\n",
    "        result[i*2+1, 5] = -1\n",
    "        \n",
    "        result[i*2+1, 6] = startPoint[0] * endPoint[1]\n",
    "        result[i*2+1, 7] = startPoint[1] * endPoint[1]\n",
    "        b[i*2+1] = -endPoint[1]\n",
    "    # result[-1, -1] = 1\n",
    "    \n",
    "    return result, b\n",
    "    \n",
    "\n",
    "# def createA(numOfPts):\n",
    "#     result = np.zeros((numOfPts * 2, 8))\n",
    "    \n",
    "#     for i in range()\n",
    "\n",
    "# def createA(numOfPts):\n",
    "#     result = np.zeros((numOfPts * 2, 8))\n",
    "    \n",
    "#     for i in range()"
   ]
  },
  {
   "cell_type": "code",
   "execution_count": null,
   "metadata": {},
   "outputs": [],
   "source": [
    "dispPtsOnImg(imSproul0.imArr, imSproul0.pts)\n",
    "dispPtsOnImg(imSproul1.imArr, imSproul1.pts)"
   ]
  },
  {
   "cell_type": "code",
   "execution_count": null,
   "metadata": {},
   "outputs": [],
   "source": [
    "\"\"\"\n",
    "p' = H p\n",
    "where\n",
    "    p' = target\n",
    "    p = source\n",
    "\n",
    "place on p' the color on p\n",
    "\n",
    "---\n",
    "\n",
    "get the points in final image that actually will need a value from source image\n",
    "    do by calculating the results of the corners of the source img getting transformed,\n",
    "    then using polygon to get the coordinates that actually lies inside the polygon, so you dont do the coords that isnt in it\n",
    "    \n",
    "\n",
    "for every point in p', get the corresponding p with p' * H^-1\n",
    "\n",
    "\"\"\""
   ]
  },
  {
   "cell_type": "code",
   "execution_count": null,
   "metadata": {},
   "outputs": [],
   "source": [
    "sourcePts = imSproul0.pts\n",
    "targetPts = imSproul1.pts\n",
    "\n",
    "H = computeH(sourcePts, targetPts)\n",
    "print(\"source:\", sourcePts)\n",
    "print(\"transformed source:\", transf(H, sourcePts))\n",
    "print(\"target:\", targetPts)\n",
    "\n",
    "dispPtsOnImg(imSproul0.imArr, sourcePts)\n",
    "dispPtsOnImg(imSproul1.imArr, transf(H, sourcePts))"
   ]
  },
  {
   "cell_type": "code",
   "execution_count": 9,
   "metadata": {
    "collapsed": true
   },
   "outputs": [],
   "source": [
    "def transf(H, res, normalize=True):\n",
    "    if res.ndim == 1:\n",
    "        vect = np.append(res, 1)\n",
    "    else:\n",
    "        vect = np.vstack((res.T, np.ones(len(res))))\n",
    "    tfSourceCorners = np.dot(H, vect)\n",
    "    \n",
    "    if normalize:\n",
    "        for i in range(tfSourceCorners.shape[1]):\n",
    "            corner = tfSourceCorners[:, i]\n",
    "            normCorner = np.dot(corner, 1/(corner[2]))\n",
    "            tfSourceCorners[:, i] = normCorner\n",
    "    return tfSourceCorners[:-1, :].T"
   ]
  },
  {
   "cell_type": "code",
   "execution_count": 10,
   "metadata": {
    "collapsed": true
   },
   "outputs": [],
   "source": [
    "def getDimensions(imCornersCoords):\n",
    "    # assuming imCornersCoords = [[width, height]]\n",
    "    \n",
    "    minWidth = int(np.floor(min(imCornersCoords[:, 0])))\n",
    "    minHeight = int(np.floor(min(imCornersCoords[:, 1])))\n",
    "    \n",
    "    maxWidth = int(np.ceil(max(imCornersCoords[:, 0])))\n",
    "    maxHeight = int(np.ceil(max(imCornersCoords[:, 1])))\n",
    "    \n",
    "    totalWidth = maxWidth - minWidth + 1\n",
    "    totalHeight = maxHeight - minHeight + 1\n",
    "    \n",
    "    tup = totalHeight, totalWidth, minHeight, minWidth\n",
    "    print(tup)\n",
    "    \n",
    "    return tup\n",
    "    "
   ]
  },
  {
   "cell_type": "code",
   "execution_count": 112,
   "metadata": {},
   "outputs": [],
   "source": [
    "def findAllCoords(tfSourceCorners):\n",
    "    \n",
    "    xCorners = tfSourceCorners[:, 0]\n",
    "    yCorners = tfSourceCorners[:, 1]\n",
    "    \n",
    "    flatMinX = int(np.floor(min(xCorners)))\n",
    "    flatMinY = int(np.floor(min(yCorners)))\n",
    "    newXCorners = xCorners - flatMinX\n",
    "    newYCorners = yCorners - flatMinY\n",
    "    \n",
    "    \n",
    "    innerCoordsR, innerCoordsC = polygon(newXCorners, newYCorners)\n",
    "    finInnerCoordsR, finInnerCoordsC = innerCoordsR + flatMinX, innerCoordsC + flatMinY\n",
    "    \n",
    "    \n",
    "    perimCoordsR, perimCoordsC = polygon_perimeter(xCorners, yCorners)\n",
    "    allCoordsR = np.append(finInnerCoordsR, perimCoordsR)\n",
    "    allCoordsC = np.append(finInnerCoordsC, perimCoordsC)\n",
    "\n",
    "#     allCoordsR = finInnerCoordsR\n",
    "#     allCoordsC = finInnerCoordsC\n",
    "\n",
    "#     allCoordsR = perimCoordsR\n",
    "#     allCoordsC = perimCoordsC\n",
    "\n",
    "    targetPs = np.vstack((allCoordsR, allCoordsC)).T\n",
    "    \n",
    "    return targetPs"
   ]
  },
  {
   "cell_type": "code",
   "execution_count": 293,
   "metadata": {},
   "outputs": [],
   "source": [
    "class WarpedImageInfo:\n",
    "    \n",
    "    def __init__(self, corners, targetPs, rvals, gvals, bvals, iavals):\n",
    "        self.corners = corners\n",
    "        self.targetPs = targetPs\n",
    "        self.rvals = rvals\n",
    "        self.gvals = gvals\n",
    "        self.bvals = bvals\n",
    "        self.iavals = iavals\n",
    "        \n",
    "    def createImageObj(self, newImage=None, minH = 0, minW = 0, name = \"\"):\n",
    "        if newImage == None:\n",
    "            finH, finW, minH, minW = getDimensions(self.corners)\n",
    "            newImage = Image(name, np.zeros((finH, finW, 4)))\n",
    "        newImage.imArr[self.targetPs[:, 1] - minH, self.targetPs[:, 0] - minW, 0] = self.rvals\n",
    "        newImage.imArr[self.targetPs[:, 1] - minH, self.targetPs[:, 0] - minW, 1] = self.gvals\n",
    "        newImage.imArr[self.targetPs[:, 1] - minH, self.targetPs[:, 0] - minW, 2] = self.bvals\n",
    "        newImage.imArr[self.targetPs[:, 1] - minH, self.targetPs[:, 0] - minW, 3] = self.iavals\n",
    "        newImage.polyCorners = self.corners\n",
    "        return newImage\n",
    "\n",
    "def warpTo(imSource, sourcePts, targetPts, padding = 0):\n",
    "\n",
    "    H = computeH(sourcePts, targetPts)\n",
    "    sourceCorners = Image.getCorners(imSource, padding)\n",
    "    tfSourceCorners = transf(H, sourceCorners)\n",
    "\n",
    "    print(\"sourceCorners:\", sourceCorners)\n",
    "    print(\"tfSourceCorners:\", tfSourceCorners)\n",
    "\n",
    "    targetPs = findAllCoords(tfSourceCorners)\n",
    "\n",
    "    invH = np.linalg.inv(H)\n",
    "\n",
    "    sourcePs = transf(invH, targetPs)\n",
    "    \n",
    "    source_Rchan = interp2d(range(imSource.width), range(imSource.height), imSource.imArr[:, :, 0])\n",
    "    source_Gchan = interp2d(range(imSource.width), range(imSource.height), imSource.imArr[:, :, 1])\n",
    "    source_Bchan = interp2d(range(imSource.width), range(imSource.height), imSource.imArr[:, :, 2])\n",
    "    \n",
    "    _alpHelp = np.ones(imSource.imArr.shape[:2])\n",
    "    _alpHelp[_alpHelp.shape[0] // 2, _alpHelp.shape[1] // 2] = 0\n",
    "    \n",
    "    _alp2 = scipy.ndimage.morphology.distance_transform_edt(_alpHelp)\n",
    "    weightedAlph = 1 - (_alp2 / np.amax(_alp2))\n",
    "#     print(np.amin(weightedAlph), np.amax(weightedAlph))\n",
    "#     printImage(\"test.png\", weightedAlph)\n",
    "    \n",
    "    source_iAchan = interp2d(range(imSource.width), range(imSource.height), weightedAlph)\n",
    "    \n",
    "    autoInterp = lambda f, xs, ys: dfitpack.bispeu(f.tck[0], f.tck[1], f.tck[2], f.tck[3], f.tck[4], xs, ys)[0]\n",
    "\n",
    "    Rvals = autoInterp(source_Rchan, sourcePs[:, 0], sourcePs[:, 1])\n",
    "    Gvals = autoInterp(source_Gchan, sourcePs[:, 0], sourcePs[:, 1])\n",
    "    Bvals = autoInterp(source_Bchan, sourcePs[:, 0], sourcePs[:, 1])\n",
    "    iAvals = autoInterp(source_iAchan, sourcePs[:, 0], sourcePs[:, 1])\n",
    "    \n",
    "    return WarpedImageInfo(tfSourceCorners, targetPs, Rvals, Gvals, Bvals, iAvals)\n",
    "\n",
    "def warpProcess(imBase, imBasePts, imgList, padding = 0):\n",
    "\n",
    "    warpedResults = []\n",
    "    for im in imgList:\n",
    "\n",
    "        imPts = im.pts\n",
    "\n",
    "        warpedResults.append(warpTo(im, imPts, imBasePts, padding))\n",
    "\n",
    "    allCorners = np.vstack([warped.corners for warped in warpedResults])\n",
    "    print(allCorners)\n",
    "    finH, finW, minH, minW = getDimensions(allCorners)\n",
    "    # finalImage = Image(\"finalImage\", np.zeros((finH, finW, 3)))\n",
    "\n",
    "    newWarpedImages = []\n",
    "    # for warped in warpedResults:\n",
    "    for i in range(len(warpedResults)):\n",
    "        warped = warpedResults[i]\n",
    "        newImage = Image(\"finalImage\", np.zeros((finH, finW, 4)))\n",
    "        newWarpedImages.append(warped.createImageObj(newImage, minH = minH, minW = minW))\n",
    "    \n",
    "    return newWarpedImages"
   ]
  },
  {
   "cell_type": "markdown",
   "metadata": {},
   "source": [
    "# Alpha Blending"
   ]
  },
  {
   "cell_type": "code",
   "execution_count": 295,
   "metadata": {},
   "outputs": [
    {
     "name": "stdout",
     "output_type": "stream",
     "text": [
      "total: [[0.         0.         0.         ... 0.00263503 0.00201782 0.00160458]\n",
      " [0.         0.         0.         ... 0.00276546 0.00220985 0.00190303]\n",
      " [0.         0.         0.         ... 0.0031846  0.00262854 0.00236627]\n",
      " ...\n",
      " [0.         0.         0.         ... 0.         0.         0.        ]\n",
      " [0.         0.         0.         ... 0.         0.         0.        ]\n",
      " [0.         0.         0.         ... 0.         0.         0.        ]]\n",
      "[[[0.         0.         0.        ]\n",
      "  [0.         0.         0.        ]\n",
      "  [0.         0.         0.        ]\n",
      "  ...\n",
      "  [0.26770098 0.32806925 0.39207403]\n",
      "  [0.25298798 0.31712882 0.38037909]\n",
      "  [0.24313725 0.30980392 0.37254902]]\n",
      "\n",
      " [[0.         0.         0.        ]\n",
      "  [0.         0.         0.        ]\n",
      "  [0.         0.         0.        ]\n",
      "  ...\n",
      "  [0.26780151 0.32827411 0.39222409]\n",
      "  [0.25418723 0.31814367 0.38133912]\n",
      "  [0.2465129  0.31242942 0.37517452]]\n",
      "\n",
      " [[0.         0.         0.        ]\n",
      "  [0.         0.         0.        ]\n",
      "  [0.         0.         0.        ]\n",
      "  ...\n",
      "  [0.2699626  0.33021518 0.39411036]\n",
      "  [0.25770455 0.32098868 0.38412932]\n",
      "  [0.2517524  0.31650459 0.37924969]]\n",
      "\n",
      " ...\n",
      "\n",
      " [[0.         0.         0.        ]\n",
      "  [0.         0.         0.        ]\n",
      "  [0.         0.         0.        ]\n",
      "  ...\n",
      "  [0.         0.         0.        ]\n",
      "  [0.         0.         0.        ]\n",
      "  [0.         0.         0.        ]]\n",
      "\n",
      " [[0.         0.         0.        ]\n",
      "  [0.         0.         0.        ]\n",
      "  [0.         0.         0.        ]\n",
      "  ...\n",
      "  [0.         0.         0.        ]\n",
      "  [0.         0.         0.        ]\n",
      "  [0.         0.         0.        ]]\n",
      "\n",
      " [[0.         0.         0.        ]\n",
      "  [0.         0.         0.        ]\n",
      "  [0.         0.         0.        ]\n",
      "  ...\n",
      "  [0.         0.         0.        ]\n",
      "  [0.         0.         0.        ]\n",
      "  [0.         0.         0.        ]]]\n"
     ]
    },
    {
     "name": "stderr",
     "output_type": "stream",
     "text": [
      "/Users/reginaongowarsito/anaconda3/lib/python3.6/site-packages/skimage/util/dtype.py:122: UserWarning: Possible precision loss when converting from float64 to uint8\n",
      "  .format(dtypeobj_in, dtypeobj_out))\n"
     ]
    },
    {
     "name": "stdout",
     "output_type": "stream",
     "text": [
      "File saved to: output_imgs/20181110224948_fin.png\n"
     ]
    }
   ],
   "source": [
    "im1 = result[0].imArr\n",
    "im2 = result[1].imArr\n",
    "\n",
    "\n",
    "# imMask1 = np.zeros(im1.shape)\n",
    "# imMask1[im1[:, :, 3] != 0] = 1\n",
    "# imMask2 = np.zeros(im2.shape)\n",
    "# imMask2[im2[:, :, 3] != 0] = 1\n",
    "\n",
    "# printImage(\"m1.png\", im1[:,:,3])\n",
    "# printImage(\"m1.png\", imMask1)\n",
    "# printImage(\"m2.png\", imMask2)\n",
    "\n",
    "imList = [x.imArr for x in result]\n",
    "\n",
    "totalAlphas = np.ones(im1.shape[:2])\n",
    "totalAlphas = np.zeros(im1.shape[:2])\n",
    "for im in imList:\n",
    "    totalAlphas += im[:,:,3]\n",
    "print(\"total:\", totalAlphas)\n",
    "totalAlphas = totalAlphas\n",
    "# printImage(\"ta.png\", totalAlphas / np.amax(totalAlphas))\n",
    "totalAlphas[totalAlphas == 0] = 1\n",
    "\n",
    "finalImage = np.zeros((im1.shape[0], im1.shape[1], 3))\n",
    "# div3 = np.dstack((totalAlphas, np.dstack((totalAlphas, totalAlphas))))\n",
    "# print(div3.shape)\n",
    "# print(finalImage.shape)\n",
    "for im in imList:\n",
    "    weights = np.divide(im[:,:,3], totalAlphas)\n",
    "    # finalImage[:,:,1] += np.multiply(im[:,:,2], weights)\n",
    "    weights3 = np.dstack((weights, np.dstack((weights, weights))))\n",
    "    finalImage += np.multiply(im[:,:,:3], weights3)\n",
    "print(finalImage)\n",
    "printImage(\"fin.png\", finalImage)\n"
   ]
  },
  {
   "cell_type": "code",
   "execution_count": null,
   "metadata": {
    "collapsed": true
   },
   "outputs": [],
   "source": []
  },
  {
   "cell_type": "code",
   "execution_count": null,
   "metadata": {
    "collapsed": true
   },
   "outputs": [],
   "source": []
  },
  {
   "cell_type": "code",
   "execution_count": null,
   "metadata": {
    "collapsed": true
   },
   "outputs": [],
   "source": []
  },
  {
   "cell_type": "code",
   "execution_count": null,
   "metadata": {
    "collapsed": true
   },
   "outputs": [],
   "source": []
  },
  {
   "cell_type": "code",
   "execution_count": null,
   "metadata": {
    "collapsed": true
   },
   "outputs": [],
   "source": []
  },
  {
   "cell_type": "markdown",
   "metadata": {},
   "source": [
    "# Laplacian blending"
   ]
  },
  {
   "cell_type": "code",
   "execution_count": 200,
   "metadata": {
    "collapsed": true
   },
   "outputs": [],
   "source": [
    "def multiResBlendOp(im1, im2, mask, levels, sigma):\n",
    "    assert im1.shape == im2.shape == mask.shape\n",
    "\n",
    "    L1 = laplacianPyrOp_3D(im1, levels, sigma)\n",
    "    L2 = laplacianPyrOp_3D(im2, levels, sigma)\n",
    "    LM = gaussStackOp_3D(mask, levels, sigma)\n",
    "    \n",
    "#     for i in range(len(LM)):\n",
    "#         printImage(str(i) + \".png\", LM[i])\n",
    "        \n",
    "#     for i in range(len(L1)):\n",
    "#         printImage(str(i) + \".png\", L1[i])\n",
    "    LM1 = LM\n",
    "    LM2 = (1 - LM1)\n",
    "\n",
    "    L1_post = LM1 * L1\n",
    "    L2_post = LM2 * L2\n",
    "\n",
    "    finalL = L1_post + L2_post\n",
    "\n",
    "    tes = np.zeros(L1[0].shape)\n",
    "\n",
    "    for i in range(len(L1)):\n",
    "        tes += finalL[i]\n",
    "\n",
    "    tes2 = np.clip(tes, -1, 1)\n",
    "\n",
    "    return tes2"
   ]
  },
  {
   "cell_type": "code",
   "execution_count": 123,
   "metadata": {
    "collapsed": true
   },
   "outputs": [],
   "source": [
    "def laplacianPyrOp_3D(im, levels, sigma, scaleB = False):\n",
    "    gaussStack = gaussStackOp_3D(im, levels, sigma)\n",
    "\n",
    "    for i in range(levels):\n",
    "        res = gaussStack[i] - gaussStack[i+1]\n",
    "        if scaleB:\n",
    "            finalCurrLayer = (res - res.min()) / (res.max() - res.min())\n",
    "        else:\n",
    "            finalCurrLayer = res\n",
    "        gaussStack[i] = finalCurrLayer\n",
    "\n",
    "    return gaussStack"
   ]
  },
  {
   "cell_type": "code",
   "execution_count": 188,
   "metadata": {
    "collapsed": true
   },
   "outputs": [],
   "source": [
    "def gaussStackOp_3D(im, levels, sigma):\n",
    "    assert levels > 0\n",
    "    #inclusive of original img, at layer indexed 0\n",
    "\n",
    "    result = []\n",
    "    # newLayer = (lambda: np.zeros(im.shape))\n",
    "\n",
    "    for i in range(levels+1):\n",
    "        if i == 0:\n",
    "            result.append(im)\n",
    "            continue\n",
    "        # currLayer = newLayer()\n",
    "        currLayer = skimage.filters.gaussian(result[i - 1], sigma, mode=\"constant\")\n",
    "        result.append(currLayer)\n",
    "\n",
    "    return np.array(result)"
   ]
  },
  {
   "cell_type": "code",
   "execution_count": 141,
   "metadata": {},
   "outputs": [
    {
     "name": "stderr",
     "output_type": "stream",
     "text": [
      "/Users/reginaongowarsito/anaconda3/lib/python3.6/site-packages/skimage/transform/_warps.py:84: UserWarning: The default mode, 'constant', will be changed to 'reflect' in skimage 0.15.\n",
      "  warn(\"The default mode, 'constant', will be changed to 'reflect' in \"\n",
      "/Users/reginaongowarsito/anaconda3/lib/python3.6/site-packages/skimage/filters/_gaussian.py:108: RuntimeWarning: Images with dimensions (M, N, 3) are interpreted as 2D+RGB by default. Use `multichannel=False` to interpret as 3D image with last dimension of length 3.\n",
      "  warn(RuntimeWarning(msg))\n"
     ]
    }
   ],
   "source": [
    "imMask = Image.fromPath(\"../curated_sample_imgs/lower_sproul/mask_test.png\", 0.25)\n",
    "res = multiResBlendOp(imSproul0.imArr, imSproul1.imArr, imMask.imArr, 3, 5)"
   ]
  },
  {
   "cell_type": "code",
   "execution_count": 220,
   "metadata": {},
   "outputs": [
    {
     "name": "stderr",
     "output_type": "stream",
     "text": [
      "/Users/reginaongowarsito/anaconda3/lib/python3.6/site-packages/skimage/filters/_gaussian.py:108: RuntimeWarning: Images with dimensions (M, N, 3) are interpreted as 2D+RGB by default. Use `multichannel=False` to interpret as 3D image with last dimension of length 3.\n",
      "  warn(RuntimeWarning(msg))\n",
      "/Users/reginaongowarsito/anaconda3/lib/python3.6/site-packages/skimage/util/dtype.py:122: UserWarning: Possible precision loss when converting from float64 to uint8\n",
      "  .format(dtypeobj_in, dtypeobj_out))\n"
     ]
    },
    {
     "name": "stdout",
     "output_type": "stream",
     "text": [
      "File saved to: output_imgs/20181110210228_test.png\n"
     ]
    }
   ],
   "source": [
    "im1 = result[0].imArr\n",
    "im2 = result[1].imArr\n",
    "\n",
    "def laplacianBlending(im1, im2, level, sig):\n",
    "    imMask = np.zeros(im1.shape)\n",
    "    # im1 == 0\n",
    "\n",
    "    imMask[np.any(im1, 2), 0] = 1\n",
    "    imMask[np.any(im1, 2), 1] = 1\n",
    "    imMask[np.any(im1, 2), 2] = 1\n",
    "\n",
    "    #### cheatsy doodle, the woooooorst way of doing this\n",
    "    invImMask = 1 - imMask\n",
    "    invImMask2 = skimage.filters.gaussian(invImMask, sig)\n",
    "    for i in range(3):\n",
    "        invImMask2 += skimage.filters.gaussian(invImMask, sig)\n",
    "    imMask2 = 1 - invImMask2\n",
    "    imMask2 = np.clip(imMask2, 0, 1)\n",
    "\n",
    "    res = multiResBlendOp(im1, im2, imMask2, level, sig)\n",
    "\n",
    "    return res\n",
    "\n"
   ]
  },
  {
   "cell_type": "code",
   "execution_count": 142,
   "metadata": {
    "scrolled": true
   },
   "outputs": [
    {
     "name": "stdout",
     "output_type": "stream",
     "text": [
      "File saved to: output_imgs/20181110184925_test.png\n"
     ]
    },
    {
     "name": "stderr",
     "output_type": "stream",
     "text": [
      "/Users/reginaongowarsito/anaconda3/lib/python3.6/site-packages/skimage/util/dtype.py:122: UserWarning: Possible precision loss when converting from float64 to uint8\n",
      "  .format(dtypeobj_in, dtypeobj_out))\n"
     ]
    }
   ],
   "source": [
    "printImage(\"test.png\", laplacianBlending(result[0].imArr, result[1].imArr, 5, 20))"
   ]
  },
  {
   "cell_type": "code",
   "execution_count": 226,
   "metadata": {},
   "outputs": [
    {
     "name": "stderr",
     "output_type": "stream",
     "text": [
      "/Users/reginaongowarsito/anaconda3/lib/python3.6/site-packages/skimage/filters/_gaussian.py:108: RuntimeWarning: Images with dimensions (M, N, 3) are interpreted as 2D+RGB by default. Use `multichannel=False` to interpret as 3D image with last dimension of length 3.\n",
      "  warn(RuntimeWarning(msg))\n",
      "/Users/reginaongowarsito/anaconda3/lib/python3.6/site-packages/skimage/util/dtype.py:122: UserWarning: Possible precision loss when converting from float64 to uint8\n",
      "  .format(dtypeobj_in, dtypeobj_out))\n"
     ]
    },
    {
     "name": "stdout",
     "output_type": "stream",
     "text": [
      "File saved to: output_imgs/20181110213131_test.png\n"
     ]
    }
   ],
   "source": [
    "printImage(\"test.png\", laplacianBlending(result2[0].imArr, result2[1].imArr, 5, 20))"
   ]
  },
  {
   "cell_type": "markdown",
   "metadata": {},
   "source": [
    "# Scenarios"
   ]
  },
  {
   "cell_type": "code",
   "execution_count": 294,
   "metadata": {},
   "outputs": [
    {
     "name": "stderr",
     "output_type": "stream",
     "text": [
      "/Users/reginaongowarsito/anaconda3/lib/python3.6/site-packages/skimage/transform/_warps.py:84: UserWarning: The default mode, 'constant', will be changed to 'reflect' in skimage 0.15.\n",
      "  warn(\"The default mode, 'constant', will be changed to 'reflect' in \"\n",
      "/Users/reginaongowarsito/anaconda3/lib/python3.6/site-packages/ipykernel_launcher.py:5: FutureWarning: `rcond` parameter will change to the default of machine precision times ``max(M, N)`` where M and N are the input matrix dimensions.\n",
      "To use the future default and silence this warning we advise to pass `rcond=None`, to keep using the old, explicitly pass `rcond=-1`.\n",
      "  \"\"\"\n"
     ]
    },
    {
     "name": "stdout",
     "output_type": "stream",
     "text": [
      "sourceCorners: [[   0    0]\n",
      " [   0  489]\n",
      " [1007  489]\n",
      " [1007    0]]\n",
      "tfSourceCorners: [[ 365.95225067   18.38516515]\n",
      " [ 378.73183394  439.8204531 ]\n",
      " [1711.64272915  615.26569169]\n",
      " [1768.64054587 -168.59640556]]\n",
      "sourceCorners: [[   0    0]\n",
      " [   0  489]\n",
      " [1007  489]\n",
      " [1007    0]]\n",
      "tfSourceCorners: [[  -0.   -0.]\n",
      " [   0.  489.]\n",
      " [1007.  489.]\n",
      " [1007.   -0.]]\n",
      "[[ 365.95225067   18.38516515]\n",
      " [ 378.73183394  439.8204531 ]\n",
      " [1711.64272915  615.26569169]\n",
      " [1768.64054587 -168.59640556]\n",
      " [  -0.           -0.        ]\n",
      " [   0.          489.        ]\n",
      " [1007.          489.        ]\n",
      " [1007.           -0.        ]]\n",
      "(786, 1771, -169, -1)\n"
     ]
    }
   ],
   "source": [
    "imSproul0 = Image.fromPath(\"../curated_sample_imgs/lower_sproul/lower_sproul_00.jpg\", 0.25)\n",
    "imSproul0.readCoordsIn(\"../curated_sample_imgs/lower_sproul/2_lower_sproul_00.txt\")\n",
    "imSproul0.pts = imSproul0.pts * 0.25\n",
    "imSproul1 = Image.fromPath(\"../curated_sample_imgs/lower_sproul/lower_sproul_01.jpg\", 0.25)\n",
    "imSproul1.readCoordsIn(\"../curated_sample_imgs/lower_sproul/2_lower_sproul_01.txt\")\n",
    "imSproul1.pts = imSproul1.pts * 0.25\n",
    "\n",
    "imgList = [imSproul0, imSproul1]\n",
    "imBase = imSproul1\n",
    "imBasePts = imSproul1.pts\n",
    "\n",
    "result = warpProcess(imBase, imBasePts, imgList, 0)\n",
    "# for i in range(len(result)):\n",
    "#     im = result[i]\n",
    "#     printImage(str(i) + \".jpg\", im.imArr)"
   ]
  },
  {
   "cell_type": "code",
   "execution_count": null,
   "metadata": {
    "collapsed": true
   },
   "outputs": [],
   "source": []
  },
  {
   "cell_type": "code",
   "execution_count": 225,
   "metadata": {},
   "outputs": [
    {
     "name": "stderr",
     "output_type": "stream",
     "text": [
      "/Users/reginaongowarsito/anaconda3/lib/python3.6/site-packages/skimage/transform/_warps.py:84: UserWarning: The default mode, 'constant', will be changed to 'reflect' in skimage 0.15.\n",
      "  warn(\"The default mode, 'constant', will be changed to 'reflect' in \"\n",
      "/Users/reginaongowarsito/anaconda3/lib/python3.6/site-packages/ipykernel_launcher.py:5: FutureWarning: `rcond` parameter will change to the default of machine precision times ``max(M, N)`` where M and N are the input matrix dimensions.\n",
      "To use the future default and silence this warning we advise to pass `rcond=None`, to keep using the old, explicitly pass `rcond=-1`.\n",
      "  \"\"\"\n"
     ]
    },
    {
     "name": "stdout",
     "output_type": "stream",
     "text": [
      "sourceCorners: [[   0    0]\n",
      " [   0 1959]\n",
      " [4031 1959]\n",
      " [4031    0]]\n",
      "tfSourceCorners: [[-2011.61825807  -826.04216801]\n",
      " [-1336.05220795  2059.37481888]\n",
      " [ 2904.42093564  1790.46658472]\n",
      " [ 3411.17764859  -146.82696814]]\n",
      "sourceCorners: [[   0    0]\n",
      " [   0 1959]\n",
      " [4031 1959]\n",
      " [4031    0]]\n",
      "tfSourceCorners: [[  -0.   -0.]\n",
      " [   0. 1959.]\n",
      " [4031. 1959.]\n",
      " [4031.   -0.]]\n",
      "[[-2011.61825807  -826.04216801]\n",
      " [-1336.05220795  2059.37481888]\n",
      " [ 2904.42093564  1790.46658472]\n",
      " [ 3411.17764859  -146.82696814]\n",
      " [   -0.            -0.        ]\n",
      " [    0.          1959.        ]\n",
      " [ 4031.          1959.        ]\n",
      " [ 4031.            -0.        ]]\n",
      "(2888, 6045, -827, -2012)\n",
      "File saved to: output_imgs/20181110212304_0.jpg\n",
      "File saved to: output_imgs/20181110212304_1.jpg\n"
     ]
    },
    {
     "name": "stderr",
     "output_type": "stream",
     "text": [
      "/Users/reginaongowarsito/anaconda3/lib/python3.6/site-packages/skimage/util/dtype.py:122: UserWarning: Possible precision loss when converting from float64 to uint8\n",
      "  .format(dtypeobj_in, dtypeobj_out))\n"
     ]
    }
   ],
   "source": [
    "imRoof0 = Image.fromPath(\"../curated_sample_imgs/roof_esh/roof_esh_00.jpg\")\n",
    "imRoof0.readCoordsIn(\"../curated_sample_imgs/roof_esh/1_roof_esh_00.txt\")\n",
    "imRoof0.pts = imRoof0.pts\n",
    "imRoof1 = Image.fromPath(\"../curated_sample_imgs/roof_esh/roof_esh_01.jpg\")\n",
    "imRoof1.readCoordsIn(\"../curated_sample_imgs/roof_esh/1_roof_esh_01.txt\")\n",
    "imRoof1.pts = imRoof1.pts\n",
    "\n",
    "imgList = [imRoof0, imRoof1]\n",
    "imBase = imRoof1\n",
    "imBasePts = imRoof1.pts\n",
    "\n",
    "result2 = warpProcess(imBase, imBasePts, imgList, 0)\n",
    "for i in range(len(result)):\n",
    "    im = result[i]\n",
    "    printImage(str(i) + \".jpg\", im.imArr)"
   ]
  },
  {
   "cell_type": "code",
   "execution_count": 60,
   "metadata": {},
   "outputs": [
    {
     "name": "stderr",
     "output_type": "stream",
     "text": [
      "/Users/reginaongowarsito/anaconda3/lib/python3.6/site-packages/skimage/transform/_warps.py:84: UserWarning: The default mode, 'constant', will be changed to 'reflect' in skimage 0.15.\n",
      "  warn(\"The default mode, 'constant', will be changed to 'reflect' in \"\n"
     ]
    },
    {
     "name": "stdout",
     "output_type": "stream",
     "text": [
      "[[  0.    0. ]\n",
      " [  0.  130. ]\n",
      " [130.  137.5]\n",
      " [137.5   0. ]]\n"
     ]
    }
   ],
   "source": [
    "imRect = Image.fromPath(\"../curated_sample_imgs/lower_sproul/lower_sproul_00.jpg\")\n",
    "imRect.readCoordsIn(\"../curated_sample_imgs/lower_sproul/rect_orig_lower_sproul_00.txt\")\n",
    "dispPtsOnImg(imRect.imArr, imRect.pts)\n",
    "\n",
    "targPts = Image.readCoords(\"../curated_sample_imgs/lower_sproul/rect_targ_lower_sproul_00.txt\")\n",
    "print(targPts)\n",
    "dispPtsOnImg(imRect.imArr, targPts)\n",
    "\n",
    "res = warpTo(imRect, imRect.pts, targPts)\n",
    "im = res.createImageObj()\n",
    "printImage(\"rectified.jpg\", im.imArr)"
   ]
  }
 ],
 "metadata": {
  "kernelspec": {
   "display_name": "Python 3",
   "language": "python",
   "name": "python3"
  },
  "language_info": {
   "codemirror_mode": {
    "name": "ipython",
    "version": 3
   },
   "file_extension": ".py",
   "mimetype": "text/x-python",
   "name": "python",
   "nbconvert_exporter": "python",
   "pygments_lexer": "ipython3",
   "version": "3.6.6"
  }
 },
 "nbformat": 4,
 "nbformat_minor": 2
}
